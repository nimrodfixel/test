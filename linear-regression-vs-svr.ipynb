{
 "cells": [
  {
   "cell_type": "markdown",
   "metadata": {
    "papermill": {
     "duration": 0.032772,
     "end_time": "2020-12-30T03:12:08.058134",
     "exception": false,
     "start_time": "2020-12-30T03:12:08.025362",
     "status": "completed"
    },
    "tags": []
   },
   "source": [
    "# Avocado Prices\n",
    "\n",
    "DataSet : https://www.kaggle.com/neuromusic/avocado-prices \n",
    "\n",
    "It is a well known fact that Millenials LOVE Avocado Toast. It's also a well known fact that all Millenials live in their parents basements.\n",
    "\n",
    "Clearly, they aren't buying home because they are buying too much Avocado Toast!\n",
    "\n",
    "But maybe there's hope… if a Millenial could find a city with cheap avocados, they could live out the Millenial American Dream."
   ]
  },
  {
   "cell_type": "markdown",
   "metadata": {
    "papermill": {
     "duration": 0.030903,
     "end_time": "2020-12-30T03:12:08.121320",
     "exception": false,
     "start_time": "2020-12-30T03:12:08.090417",
     "status": "completed"
    },
    "tags": []
   },
   "source": [
    "Here we will try to compare the Linear Regression Model and SVR Model.\n",
    "\n",
    "For us the target of this project is to predict the future price of avocados depending on some variables / features we have such as \n",
    "\n",
    "* Type     \n",
    "* Bags(4 units) vs Bundle(one unit)     \n",
    "* Region      \n",
    "* Volume      \n",
    "* Size     \n",
    "* Years"
   ]
  },
  {
   "cell_type": "markdown",
   "metadata": {
    "papermill": {
     "duration": 0.031052,
     "end_time": "2020-12-30T03:12:08.184332",
     "exception": false,
     "start_time": "2020-12-30T03:12:08.153280",
     "status": "completed"
    },
    "tags": []
   },
   "source": [
    "## Column Description\n",
    "\n",
    "* Date - The date of the observation   --> Will not be using this feature.\n",
    "* AveragePrice - the average price of a single avocado    --> Target\n",
    "* Total Volume - Total number of avocados sold (small Hass + Large Hass + XLarge Hass + Total Bags)\n",
    "* 4046 - Total number of avocados with PLU 4046 sold  (Small Hass)\n",
    "* 4225 - Total number of avocados with PLU 4225 sold  (Large Hass)\n",
    "* 4770 - Total number of avocados with PLU 4770 sold  (XLarge Hass)\n",
    "* Total Bags = Small Bags + Large Bags + XLarge Bags \n",
    "* type - conventional or organic\n",
    "* year - the year\n",
    "* Region - the city or region of the observation"
   ]
  },
  {
   "cell_type": "markdown",
   "metadata": {
    "papermill": {
     "duration": 0.03116,
     "end_time": "2020-12-30T03:12:08.247008",
     "exception": false,
     "start_time": "2020-12-30T03:12:08.215848",
     "status": "completed"
    },
    "tags": []
   },
   "source": [
    "# Import Library"
   ]
  },
  {
   "cell_type": "code",
   "execution_count": 154,
   "metadata": {
    "_cell_guid": "b1076dfc-b9ad-4769-8c92-a6c4dae69d19",
    "_uuid": "8f2839f25d086af736a60e9eeb907d3b93b6e0e5",
    "execution": {
     "iopub.execute_input": "2020-12-30T03:12:08.316978Z",
     "iopub.status.busy": "2020-12-30T03:12:08.316141Z",
     "iopub.status.idle": "2020-12-30T03:12:09.807309Z",
     "shell.execute_reply": "2020-12-30T03:12:09.806599Z"
    },
    "papermill": {
     "duration": 1.528921,
     "end_time": "2020-12-30T03:12:09.807442",
     "exception": false,
     "start_time": "2020-12-30T03:12:08.278521",
     "status": "completed"
    },
    "tags": []
   },
   "outputs": [],
   "source": [
    "# Import Library\n",
    "import numpy as np # linear algebra\n",
    "import pandas as pd # data processing, CSV file I/O (e.g. pd.read_csv)\n",
    "\n",
    "import seaborn as sns\n",
    "from sklearn import metrics\n",
    "from sklearn.metrics import mean_squared_error\n",
    "import matplotlib.pyplot as plt\n",
    "from sklearn import svm\n",
    "# import decision tree regressor\n",
    "from sklearn.tree import DecisionTreeRegressor\n",
    "from sklearn.ensemble import BaggingRegressor\n",
    "# import minmax scaler\n",
    "from sklearn.preprocessing import MinMaxScaler\n",
    "import pymongo\n",
    "import pickle"
   ]
  },
  {
   "cell_type": "markdown",
   "metadata": {
    "papermill": {
     "duration": 0.032972,
     "end_time": "2020-12-30T03:12:09.874384",
     "exception": false,
     "start_time": "2020-12-30T03:12:09.841412",
     "status": "completed"
    },
    "tags": []
   },
   "source": [
    "# Load Data"
   ]
  },
  {
   "cell_type": "code",
   "execution_count": 155,
   "metadata": {
    "_cell_guid": "79c7e3d0-c299-4dcb-8224-4455121ee9b0",
    "_uuid": "d629ff2d2480ee46fbb7e2d37f6b5fab8052498a",
    "execution": {
     "iopub.execute_input": "2020-12-30T03:12:09.951505Z",
     "iopub.status.busy": "2020-12-30T03:12:09.950772Z",
     "iopub.status.idle": "2020-12-30T03:12:10.032132Z",
     "shell.execute_reply": "2020-12-30T03:12:10.031405Z"
    },
    "papermill": {
     "duration": 0.125691,
     "end_time": "2020-12-30T03:12:10.032295",
     "exception": false,
     "start_time": "2020-12-30T03:12:09.906604",
     "status": "completed"
    },
    "tags": []
   },
   "outputs": [],
   "source": [
    "df = pd.read_csv('./avocado.csv', usecols=range(1,14))"
   ]
  },
  {
   "cell_type": "code",
   "execution_count": 156,
   "metadata": {
    "execution": {
     "iopub.execute_input": "2020-12-30T03:12:10.120711Z",
     "iopub.status.busy": "2020-12-30T03:12:10.107171Z",
     "iopub.status.idle": "2020-12-30T03:12:10.135539Z",
     "shell.execute_reply": "2020-12-30T03:12:10.134926Z"
    },
    "papermill": {
     "duration": 0.071389,
     "end_time": "2020-12-30T03:12:10.135712",
     "exception": false,
     "start_time": "2020-12-30T03:12:10.064323",
     "status": "completed"
    },
    "tags": []
   },
   "outputs": [
    {
     "data": {
      "text/html": [
       "<div>\n",
       "<style scoped>\n",
       "    .dataframe tbody tr th:only-of-type {\n",
       "        vertical-align: middle;\n",
       "    }\n",
       "\n",
       "    .dataframe tbody tr th {\n",
       "        vertical-align: top;\n",
       "    }\n",
       "\n",
       "    .dataframe thead th {\n",
       "        text-align: right;\n",
       "    }\n",
       "</style>\n",
       "<table border=\"1\" class=\"dataframe\">\n",
       "  <thead>\n",
       "    <tr style=\"text-align: right;\">\n",
       "      <th></th>\n",
       "      <th>Date</th>\n",
       "      <th>AveragePrice</th>\n",
       "      <th>Total Volume</th>\n",
       "      <th>4046</th>\n",
       "      <th>4225</th>\n",
       "      <th>4770</th>\n",
       "      <th>Total Bags</th>\n",
       "      <th>Small Bags</th>\n",
       "      <th>Large Bags</th>\n",
       "      <th>XLarge Bags</th>\n",
       "      <th>type</th>\n",
       "      <th>year</th>\n",
       "      <th>region</th>\n",
       "    </tr>\n",
       "  </thead>\n",
       "  <tbody>\n",
       "    <tr>\n",
       "      <th>0</th>\n",
       "      <td>2015-12-27</td>\n",
       "      <td>1.33</td>\n",
       "      <td>64236.62</td>\n",
       "      <td>1036.74</td>\n",
       "      <td>54454.85</td>\n",
       "      <td>48.16</td>\n",
       "      <td>8696.87</td>\n",
       "      <td>8603.62</td>\n",
       "      <td>93.25</td>\n",
       "      <td>0.0</td>\n",
       "      <td>conventional</td>\n",
       "      <td>2015</td>\n",
       "      <td>Albany</td>\n",
       "    </tr>\n",
       "    <tr>\n",
       "      <th>1</th>\n",
       "      <td>2015-12-20</td>\n",
       "      <td>1.35</td>\n",
       "      <td>54876.98</td>\n",
       "      <td>674.28</td>\n",
       "      <td>44638.81</td>\n",
       "      <td>58.33</td>\n",
       "      <td>9505.56</td>\n",
       "      <td>9408.07</td>\n",
       "      <td>97.49</td>\n",
       "      <td>0.0</td>\n",
       "      <td>conventional</td>\n",
       "      <td>2015</td>\n",
       "      <td>Albany</td>\n",
       "    </tr>\n",
       "    <tr>\n",
       "      <th>2</th>\n",
       "      <td>2015-12-13</td>\n",
       "      <td>0.93</td>\n",
       "      <td>118220.22</td>\n",
       "      <td>794.70</td>\n",
       "      <td>109149.67</td>\n",
       "      <td>130.50</td>\n",
       "      <td>8145.35</td>\n",
       "      <td>8042.21</td>\n",
       "      <td>103.14</td>\n",
       "      <td>0.0</td>\n",
       "      <td>conventional</td>\n",
       "      <td>2015</td>\n",
       "      <td>Albany</td>\n",
       "    </tr>\n",
       "    <tr>\n",
       "      <th>3</th>\n",
       "      <td>2015-12-06</td>\n",
       "      <td>1.08</td>\n",
       "      <td>78992.15</td>\n",
       "      <td>1132.00</td>\n",
       "      <td>71976.41</td>\n",
       "      <td>72.58</td>\n",
       "      <td>5811.16</td>\n",
       "      <td>5677.40</td>\n",
       "      <td>133.76</td>\n",
       "      <td>0.0</td>\n",
       "      <td>conventional</td>\n",
       "      <td>2015</td>\n",
       "      <td>Albany</td>\n",
       "    </tr>\n",
       "    <tr>\n",
       "      <th>4</th>\n",
       "      <td>2015-11-29</td>\n",
       "      <td>1.28</td>\n",
       "      <td>51039.60</td>\n",
       "      <td>941.48</td>\n",
       "      <td>43838.39</td>\n",
       "      <td>75.78</td>\n",
       "      <td>6183.95</td>\n",
       "      <td>5986.26</td>\n",
       "      <td>197.69</td>\n",
       "      <td>0.0</td>\n",
       "      <td>conventional</td>\n",
       "      <td>2015</td>\n",
       "      <td>Albany</td>\n",
       "    </tr>\n",
       "  </tbody>\n",
       "</table>\n",
       "</div>"
      ],
      "text/plain": [
       "         Date  AveragePrice  Total Volume     4046       4225    4770  \\\n",
       "0  2015-12-27          1.33      64236.62  1036.74   54454.85   48.16   \n",
       "1  2015-12-20          1.35      54876.98   674.28   44638.81   58.33   \n",
       "2  2015-12-13          0.93     118220.22   794.70  109149.67  130.50   \n",
       "3  2015-12-06          1.08      78992.15  1132.00   71976.41   72.58   \n",
       "4  2015-11-29          1.28      51039.60   941.48   43838.39   75.78   \n",
       "\n",
       "   Total Bags  Small Bags  Large Bags  XLarge Bags          type  year  region  \n",
       "0     8696.87     8603.62       93.25          0.0  conventional  2015  Albany  \n",
       "1     9505.56     9408.07       97.49          0.0  conventional  2015  Albany  \n",
       "2     8145.35     8042.21      103.14          0.0  conventional  2015  Albany  \n",
       "3     5811.16     5677.40      133.76          0.0  conventional  2015  Albany  \n",
       "4     6183.95     5986.26      197.69          0.0  conventional  2015  Albany  "
      ]
     },
     "execution_count": 156,
     "metadata": {},
     "output_type": "execute_result"
    }
   ],
   "source": [
    "df.head()"
   ]
  },
  {
   "cell_type": "code",
   "execution_count": 157,
   "metadata": {
    "execution": {
     "iopub.execute_input": "2020-12-30T03:12:10.294134Z",
     "iopub.status.busy": "2020-12-30T03:12:10.293079Z",
     "iopub.status.idle": "2020-12-30T03:12:10.297732Z",
     "shell.execute_reply": "2020-12-30T03:12:10.298397Z"
    },
    "papermill": {
     "duration": 0.045787,
     "end_time": "2020-12-30T03:12:10.298553",
     "exception": false,
     "start_time": "2020-12-30T03:12:10.252766",
     "status": "completed"
    },
    "tags": []
   },
   "outputs": [
    {
     "data": {
      "text/plain": [
       "(18249, 13)"
      ]
     },
     "execution_count": 157,
     "metadata": {},
     "output_type": "execute_result"
    }
   ],
   "source": [
    "df.shape"
   ]
  },
  {
   "cell_type": "markdown",
   "metadata": {
    "papermill": {
     "duration": 0.032911,
     "end_time": "2020-12-30T03:12:10.365530",
     "exception": false,
     "start_time": "2020-12-30T03:12:10.332619",
     "status": "completed"
    },
    "tags": []
   },
   "source": [
    "# Check for Missing Data"
   ]
  },
  {
   "cell_type": "code",
   "execution_count": 158,
   "metadata": {
    "execution": {
     "iopub.execute_input": "2020-12-30T03:12:10.436169Z",
     "iopub.status.busy": "2020-12-30T03:12:10.435143Z",
     "iopub.status.idle": "2020-12-30T03:12:10.449979Z",
     "shell.execute_reply": "2020-12-30T03:12:10.450520Z"
    },
    "papermill": {
     "duration": 0.052067,
     "end_time": "2020-12-30T03:12:10.450676",
     "exception": false,
     "start_time": "2020-12-30T03:12:10.398609",
     "status": "completed"
    },
    "tags": []
   },
   "outputs": [
    {
     "data": {
      "text/plain": [
       "Date            0\n",
       "AveragePrice    0\n",
       "Total Volume    0\n",
       "4046            0\n",
       "4225            0\n",
       "4770            0\n",
       "Total Bags      0\n",
       "Small Bags      0\n",
       "Large Bags      0\n",
       "XLarge Bags     0\n",
       "type            0\n",
       "year            0\n",
       "region          0\n",
       "dtype: int64"
      ]
     },
     "execution_count": 158,
     "metadata": {},
     "output_type": "execute_result"
    }
   ],
   "source": [
    "df.isnull().sum()"
   ]
  },
  {
   "cell_type": "code",
   "execution_count": 159,
   "metadata": {},
   "outputs": [],
   "source": [
    "# df.drop(['4046', '4225', '4770'], axis=1).head() #This is a useful function for removing any irrelivent data from the df\n"
   ]
  },
  {
   "cell_type": "markdown",
   "metadata": {
    "papermill": {
     "duration": 0.033284,
     "end_time": "2020-12-30T03:12:10.518071",
     "exception": false,
     "start_time": "2020-12-30T03:12:10.484787",
     "status": "completed"
    },
    "tags": []
   },
   "source": [
    "C## hecking  Imbalance \n",
    "## Region"
   ]
  },
  {
   "cell_type": "code",
   "execution_count": 160,
   "metadata": {
    "execution": {
     "iopub.execute_input": "2020-12-30T03:12:10.589940Z",
     "iopub.status.busy": "2020-12-30T03:12:10.588957Z",
     "iopub.status.idle": "2020-12-30T03:12:10.596891Z",
     "shell.execute_reply": "2020-12-30T03:12:10.597377Z"
    },
    "papermill": {
     "duration": 0.045574,
     "end_time": "2020-12-30T03:12:10.597522",
     "exception": false,
     "start_time": "2020-12-30T03:12:10.551948",
     "status": "completed"
    },
    "tags": []
   },
   "outputs": [
    {
     "data": {
      "text/plain": [
       "54"
      ]
     },
     "execution_count": 160,
     "metadata": {},
     "output_type": "execute_result"
    }
   ],
   "source": [
    "len(df.region.unique())"
   ]
  },
  {
   "cell_type": "code",
   "execution_count": 161,
   "metadata": {
    "execution": {
     "iopub.execute_input": "2020-12-30T03:12:10.670385Z",
     "iopub.status.busy": "2020-12-30T03:12:10.669402Z",
     "iopub.status.idle": "2020-12-30T03:12:10.681267Z",
     "shell.execute_reply": "2020-12-30T03:12:10.680590Z"
    },
    "papermill": {
     "duration": 0.049538,
     "end_time": "2020-12-30T03:12:10.681385",
     "exception": false,
     "start_time": "2020-12-30T03:12:10.631847",
     "status": "completed"
    },
    "tags": []
   },
   "outputs": [
    {
     "data": {
      "text/plain": [
       "region\n",
       "Albany                 338\n",
       "Atlanta                338\n",
       "BaltimoreWashington    338\n",
       "Boise                  338\n",
       "Boston                 338\n",
       "BuffaloRochester       338\n",
       "California             338\n",
       "Charlotte              338\n",
       "Chicago                338\n",
       "CincinnatiDayton       338\n",
       "Columbus               338\n",
       "DallasFtWorth          338\n",
       "Denver                 338\n",
       "Detroit                338\n",
       "GrandRapids            338\n",
       "GreatLakes             338\n",
       "HarrisburgScranton     338\n",
       "HartfordSpringfield    338\n",
       "Houston                338\n",
       "Indianapolis           338\n",
       "Jacksonville           338\n",
       "LasVegas               338\n",
       "LosAngeles             338\n",
       "Louisville             338\n",
       "MiamiFtLauderdale      338\n",
       "Midsouth               338\n",
       "Nashville              338\n",
       "NewOrleansMobile       338\n",
       "NewYork                338\n",
       "Northeast              338\n",
       "NorthernNewEngland     338\n",
       "Orlando                338\n",
       "Philadelphia           338\n",
       "PhoenixTucson          338\n",
       "Pittsburgh             338\n",
       "Plains                 338\n",
       "Portland               338\n",
       "RaleighGreensboro      338\n",
       "RichmondNorfolk        338\n",
       "Roanoke                338\n",
       "Sacramento             338\n",
       "SanDiego               338\n",
       "SanFrancisco           338\n",
       "Seattle                338\n",
       "SouthCarolina          338\n",
       "SouthCentral           338\n",
       "Southeast              338\n",
       "Spokane                338\n",
       "StLouis                338\n",
       "Syracuse               338\n",
       "Tampa                  338\n",
       "TotalUS                338\n",
       "West                   338\n",
       "WestTexNewMexico       335\n",
       "dtype: int64"
      ]
     },
     "execution_count": 161,
     "metadata": {},
     "output_type": "execute_result"
    }
   ],
   "source": [
    "df.groupby('region').size() "
   ]
  },
  {
   "cell_type": "markdown",
   "metadata": {
    "papermill": {
     "duration": 0.034553,
     "end_time": "2020-12-30T03:12:10.751362",
     "exception": false,
     "start_time": "2020-12-30T03:12:10.716809",
     "status": "completed"
    },
    "tags": []
   },
   "source": [
    "There are ~338 observations from each region, dataset seems balanced, and there are 54 regions."
   ]
  },
  {
   "cell_type": "code",
   "execution_count": 162,
   "metadata": {},
   "outputs": [
    {
     "data": {
      "text/plain": [
       "Date            0\n",
       "AveragePrice    0\n",
       "Total Volume    0\n",
       "4046            0\n",
       "4225            0\n",
       "4770            0\n",
       "Total Bags      0\n",
       "Small Bags      0\n",
       "Large Bags      0\n",
       "XLarge Bags     0\n",
       "type            0\n",
       "year            0\n",
       "region          0\n",
       "dtype: int64"
      ]
     },
     "execution_count": 162,
     "metadata": {},
     "output_type": "execute_result"
    }
   ],
   "source": [
    "df.isnull().sum()"
   ]
  },
  {
   "cell_type": "code",
   "execution_count": 163,
   "metadata": {},
   "outputs": [
    {
     "data": {
      "text/plain": [
       "0"
      ]
     },
     "execution_count": 163,
     "metadata": {},
     "output_type": "execute_result"
    }
   ],
   "source": [
    "df.duplicated().sum()"
   ]
  },
  {
   "cell_type": "markdown",
   "metadata": {
    "papermill": {
     "duration": 0.035445,
     "end_time": "2020-12-30T03:12:10.822059",
     "exception": false,
     "start_time": "2020-12-30T03:12:10.786614",
     "status": "completed"
    },
    "tags": []
   },
   "source": [
    "## The average prices by regions"
   ]
  },
  {
   "cell_type": "code",
   "execution_count": 164,
   "metadata": {
    "execution": {
     "iopub.execute_input": "2020-12-30T03:12:10.900768Z",
     "iopub.status.busy": "2020-12-30T03:12:10.900065Z",
     "iopub.status.idle": "2020-12-30T03:12:13.707992Z",
     "shell.execute_reply": "2020-12-30T03:12:13.707470Z"
    },
    "papermill": {
     "duration": 2.848872,
     "end_time": "2020-12-30T03:12:13.708108",
     "exception": false,
     "start_time": "2020-12-30T03:12:10.859236",
     "status": "completed"
    },
    "tags": []
   },
   "outputs": [
    {
     "data": {
      "image/png": "[encoded data removed]",
      "text/plain": [
       "<Figure size 1080x1080 with 1 Axes>"
      ]
     },
     "metadata": {
      "needs_background": "light"
     },
     "output_type": "display_data"
    }
   ],
   "source": [
    "plt.figure(figsize=(15,15))\n",
    "\n",
    "plt.title(\"Avgerage Price of Avocado by Region\")\n",
    "\n",
    "sns.barplot(x=\"AveragePrice\",y=\"region\",data= df)\n",
    "\n",
    "plt.show()"
   ]
  },
  {
   "cell_type": "markdown",
   "metadata": {
    "papermill": {
     "duration": 0.036814,
     "end_time": "2020-12-30T03:12:13.782993",
     "exception": false,
     "start_time": "2020-12-30T03:12:13.746179",
     "status": "completed"
    },
    "tags": []
   },
   "source": [
    "Observation : Seems there are some regions which are US States (say California) and US Cities (say San Francisco) of that State or just Cities. Also there is a region as \"TotalUS\"; \"West\".\n",
    "\n",
    "For now lets leave them as is... but we could handle them."
   ]
  },
  {
   "cell_type": "markdown",
   "metadata": {
    "papermill": {
     "duration": 0.037259,
     "end_time": "2020-12-30T03:12:13.857155",
     "exception": false,
     "start_time": "2020-12-30T03:12:13.819896",
     "status": "completed"
    },
    "tags": []
   },
   "source": [
    "## type"
   ]
  },
  {
   "cell_type": "code",
   "execution_count": 165,
   "metadata": {
    "execution": {
     "iopub.execute_input": "2020-12-30T03:12:13.938397Z",
     "iopub.status.busy": "2020-12-30T03:12:13.937628Z",
     "iopub.status.idle": "2020-12-30T03:12:13.948276Z",
     "shell.execute_reply": "2020-12-30T03:12:13.947607Z"
    },
    "papermill": {
     "duration": 0.054354,
     "end_time": "2020-12-30T03:12:13.948388",
     "exception": false,
     "start_time": "2020-12-30T03:12:13.894034",
     "status": "completed"
    },
    "tags": []
   },
   "outputs": [
    {
     "name": "stdout",
     "output_type": "stream",
     "text": [
      "2\n"
     ]
    },
    {
     "data": {
      "text/plain": [
       "type\n",
       "conventional    9126\n",
       "organic         9123\n",
       "dtype: int64"
      ]
     },
     "execution_count": 165,
     "metadata": {},
     "output_type": "execute_result"
    }
   ],
   "source": [
    "print(len(df.type.unique()))\n",
    "\n",
    "df.groupby('type').size()\n"
   ]
  },
  {
   "cell_type": "markdown",
   "metadata": {
    "papermill": {
     "duration": 0.037641,
     "end_time": "2020-12-30T03:12:14.024072",
     "exception": false,
     "start_time": "2020-12-30T03:12:13.986431",
     "status": "completed"
    },
    "tags": []
   },
   "source": [
    "## Types of avocados are also balanced since the ratio is nearly 0.5 each."
   ]
  },
  {
   "cell_type": "markdown",
   "metadata": {
    "papermill": {
     "duration": 0.037138,
     "end_time": "2020-12-30T03:12:14.098721",
     "exception": false,
     "start_time": "2020-12-30T03:12:14.061583",
     "status": "completed"
    },
    "tags": []
   },
   "source": [
    "# The average prices of avocados by types "
   ]
  },
  {
   "cell_type": "code",
   "execution_count": 166,
   "metadata": {
    "execution": {
     "iopub.execute_input": "2020-12-30T03:12:14.267276Z",
     "iopub.status.busy": "2020-12-30T03:12:14.179988Z",
     "iopub.status.idle": "2020-12-30T03:12:14.567718Z",
     "shell.execute_reply": "2020-12-30T03:12:14.568188Z"
    },
    "papermill": {
     "duration": 0.431833,
     "end_time": "2020-12-30T03:12:14.568359",
     "exception": false,
     "start_time": "2020-12-30T03:12:14.136526",
     "status": "completed"
    },
    "tags": []
   },
   "outputs": [
    {
     "data": {
      "image/png": "[encoded data removed]",
      "text/plain": [
       "<Figure size 360x504 with 1 Axes>"
      ]
     },
     "metadata": {
      "needs_background": "light"
     },
     "output_type": "display_data"
    }
   ],
   "source": [
    "plt.figure(figsize=(5,7))\n",
    "\n",
    "plt.title(\"Avg.Price of Avocados by Type\")\n",
    "\n",
    "sns.barplot(x=\"type\",y=\"AveragePrice\",data= df)\n",
    "\n",
    "plt.show()"
   ]
  },
  {
   "cell_type": "markdown",
   "metadata": {
    "papermill": {
     "duration": 0.038748,
     "end_time": "2020-12-30T03:12:14.646863",
     "exception": false,
     "start_time": "2020-12-30T03:12:14.608115",
     "status": "completed"
    },
    "tags": []
   },
   "source": [
    "# Correlation"
   ]
  },
  {
   "cell_type": "code",
   "execution_count": 167,
   "metadata": {
    "execution": {
     "iopub.execute_input": "2020-12-30T03:12:14.731424Z",
     "iopub.status.busy": "2020-12-30T03:12:14.730776Z",
     "iopub.status.idle": "2020-12-30T03:12:15.374685Z",
     "shell.execute_reply": "2020-12-30T03:12:15.374051Z"
    },
    "papermill": {
     "duration": 0.688951,
     "end_time": "2020-12-30T03:12:15.374794",
     "exception": false,
     "start_time": "2020-12-30T03:12:14.685843",
     "status": "completed"
    },
    "tags": []
   },
   "outputs": [
    {
     "data": {
      "text/plain": [
       "<AxesSubplot:>"
      ]
     },
     "execution_count": 167,
     "metadata": {},
     "output_type": "execute_result"
    },
    {
     "data": {
      "image/png": "[encoded data removed]",
      "text/plain": [
       "<Figure size 864x432 with 2 Axes>"
      ]
     },
     "metadata": {
      "needs_background": "light"
     },
     "output_type": "display_data"
    }
   ],
   "source": [
    "plt.figure(figsize=(12,6))\n",
    "sns.heatmap(df.corr(),cmap='coolwarm',annot=True)"
   ]
  },
  {
   "cell_type": "markdown",
   "metadata": {
    "papermill": {
     "duration": 0.040898,
     "end_time": "2020-12-30T03:12:15.457700",
     "exception": false,
     "start_time": "2020-12-30T03:12:15.416802",
     "status": "completed"
    },
    "tags": []
   },
   "source": [
    "## Observation :\n",
    "There is a high correlation between pairs: \n",
    "* 4046 & total volume  (0.98)    \n",
    "* 4225 & total volume  (0.97)\n",
    "* 4770 & total volume  (0.87)\n",
    "* total bags & total volume  (0.96)      \n",
    "* small bags & total bags    (0.99) \n",
    "* etc\n",
    "\n",
    "* `4046` avocados are the most preferred/sold type in the US and customers tend to buy those avocados as bulk, not bag.\n",
    "* Retailers want to increase the sales of bagged avocados instead of bulks. They think this is more advantageous for them.\n",
    "* Total Bags variable has a very high correlation with Total Volume (Total Sales) and Small Bags, so we can say that most of the bagged sales comes from the small bags."
   ]
  },
  {
   "cell_type": "code",
   "execution_count": 168,
   "metadata": {},
   "outputs": [
    {
     "data": {
      "text/plain": [
       "Index(['Date', 'AveragePrice', 'Total Volume', '4046', '4225', '4770',\n",
       "       'Total Bags', 'Small Bags', 'Large Bags', 'XLarge Bags', 'type', 'year',\n",
       "       'region'],\n",
       "      dtype='object')"
      ]
     },
     "execution_count": 168,
     "metadata": {},
     "output_type": "execute_result"
    }
   ],
   "source": [
    "df.columns"
   ]
  },
  {
   "cell_type": "code",
   "execution_count": 153,
   "metadata": {},
   "outputs": [
    {
     "data": {
      "text/plain": [
       "AveragePrice    1.000000\n",
       "year            0.093197\n",
       "XLarge Bags    -0.117592\n",
       "4225           -0.172928\n",
       "Large Bags     -0.172940\n",
       "Small Bags     -0.174730\n",
       "Total Bags     -0.177088\n",
       "4770           -0.179446\n",
       "Total Volume   -0.192752\n",
       "4046           -0.208317\n",
       "Name: AveragePrice, dtype: float64"
      ]
     },
     "execution_count": 153,
     "metadata": {},
     "output_type": "execute_result"
    }
   ],
   "source": [
    "df.corr()['AveragePrice'].sort_values(ascending=False)"
   ]
  },
  {
   "cell_type": "code",
   "execution_count": 169,
   "metadata": {},
   "outputs": [
    {
     "data": {
      "image/png": "[encoded data removed]",
      "text/plain": [
       "<Figure size 1440x1440 with 12 Axes>"
      ]
     },
     "metadata": {
      "needs_background": "light"
     },
     "output_type": "display_data"
    }
   ],
   "source": [
    "df.hist(figsize=(20,20))\n",
    "plt.show()"
   ]
  },
  {
   "cell_type": "code",
   "execution_count": 171,
   "metadata": {},
   "outputs": [],
   "source": [
    "from sklearn.preprocessing import LabelEncoder\n",
    "le=LabelEncoder()\n",
    "for col in df.columns:\n",
    "    if df[col].dtype=='object':\n",
    "        df[col]=le.fit_transform(df[col])"
   ]
  },
  {
   "cell_type": "code",
   "execution_count": 172,
   "metadata": {},
   "outputs": [
    {
     "data": {
      "image/png": "[encoded data removed]",
      "text/plain": [
       "<Figure size 360x360 with 1 Axes>"
      ]
     },
     "metadata": {
      "needs_background": "light"
     },
     "output_type": "display_data"
    },
    {
     "data": {
      "image/png": "[encoded data removed]",
      "text/plain": [
       "<Figure size 360x360 with 1 Axes>"
      ]
     },
     "metadata": {
      "needs_background": "light"
     },
     "output_type": "display_data"
    },
    {
     "data": {
      "image/png": "[encoded data removed]",
      "text/plain": [
       "<Figure size 360x360 with 1 Axes>"
      ]
     },
     "metadata": {
      "needs_background": "light"
     },
     "output_type": "display_data"
    },
    {
     "data": {
      "image/png": "[encoded data removed]",
      "text/plain": [
       "<Figure size 360x360 with 1 Axes>"
      ]
     },
     "metadata": {
      "needs_background": "light"
     },
     "output_type": "display_data"
    },
    {
     "data": {
      "image/png": "[encoded data removed]",
      "text/plain": [
       "<Figure size 360x360 with 1 Axes>"
      ]
     },
     "metadata": {
      "needs_background": "light"
     },
     "output_type": "display_data"
    },
    {
     "data": {
      "image/png": "[encoded data removed]",
      "text/plain": [
       "<Figure size 360x360 with 1 Axes>"
      ]
     },
     "metadata": {
      "needs_background": "light"
     },
     "output_type": "display_data"
    },
    {
     "data": {
      "image/png": "[encoded data removed]",
      "text/plain": [
       "<Figure size 360x360 with 1 Axes>"
      ]
     },
     "metadata": {
      "needs_background": "light"
     },
     "output_type": "display_data"
    },
    {
     "data": {
      "image/png": "[encoded data removed]",
      "text/plain": [
       "<Figure size 360x360 with 1 Axes>"
      ]
     },
     "metadata": {
      "needs_background": "light"
     },
     "output_type": "display_data"
    },
    {
     "data": {
      "image/png": "[encoded data removed]",
      "text/plain": [
       "<Figure size 360x360 with 1 Axes>"
      ]
     },
     "metadata": {
      "needs_background": "light"
     },
     "output_type": "display_data"
    },
    {
     "data": {
      "image/png": "[encoded data removed]",
      "text/plain": [
       "<Figure size 360x360 with 1 Axes>"
      ]
     },
     "metadata": {
      "needs_background": "light"
     },
     "output_type": "display_data"
    },
    {
     "data": {
      "image/png": "[encoded data removed]",
      "text/plain": [
       "<Figure size 360x360 with 1 Axes>"
      ]
     },
     "metadata": {
      "needs_background": "light"
     },
     "output_type": "display_data"
    },
    {
     "data": {
      "image/png": "[encoded data removed]",
      "text/plain": [
       "<Figure size 360x360 with 1 Axes>"
      ]
     },
     "metadata": {
      "needs_background": "light"
     },
     "output_type": "display_data"
    },
    {
     "data": {
      "image/png": "[encoded data removed]",
      "text/plain": [
       "<Figure size 360x360 with 1 Axes>"
      ]
     },
     "metadata": {
      "needs_background": "light"
     },
     "output_type": "display_data"
    }
   ],
   "source": [
    "for column in df:\n",
    "    plt.figure(figsize=(5,5))\n",
    "    sns.boxplot(x=column,data=df)\n",
    "    plt.show()"
   ]
  },
  {
   "cell_type": "code",
   "execution_count": 173,
   "metadata": {},
   "outputs": [
    {
     "data": {
      "text/plain": [
       "Index(['Date', 'AveragePrice', 'Total Volume', '4046', '4225', '4770',\n",
       "       'Total Bags', 'Small Bags', 'Large Bags', 'XLarge Bags', 'type', 'year',\n",
       "       'region'],\n",
       "      dtype='object')"
      ]
     },
     "execution_count": 173,
     "metadata": {},
     "output_type": "execute_result"
    }
   ],
   "source": [
    "df.columns"
   ]
  },
  {
   "cell_type": "code",
   "execution_count": 178,
   "metadata": {},
   "outputs": [],
   "source": [
    "df['XLarge Bags']=np.where(df['XLarge Bags']>349000, np.mean(df['XLarge Bags']), df['XLarge Bags'])\n"
   ]
  },
  {
   "cell_type": "code",
   "execution_count": 179,
   "metadata": {},
   "outputs": [
    {
     "name": "stderr",
     "output_type": "stream",
     "text": [
      "/opt/homebrew/lib/python3.9/site-packages/seaborn/_decorators.py:36: FutureWarning: Pass the following variable as a keyword arg: x. From version 0.12, the only valid positional argument will be `data`, and passing other arguments without an explicit keyword will result in an error or misinterpretation.\n",
      "  warnings.warn(\n"
     ]
    },
    {
     "data": {
      "text/plain": [
       "<AxesSubplot:xlabel='XLarge Bags'>"
      ]
     },
     "execution_count": 179,
     "metadata": {},
     "output_type": "execute_result"
    },
    {
     "data": {
      "image/png": "[encoded data removed]",
      "text/plain": [
       "<Figure size 432x288 with 1 Axes>"
      ]
     },
     "metadata": {
      "needs_background": "light"
     },
     "output_type": "display_data"
    }
   ],
   "source": [
    "sns.boxplot(df['XLarge Bags'])"
   ]
  },
  {
   "cell_type": "code",
   "execution_count": null,
   "metadata": {},
   "outputs": [],
   "source": []
  },
  {
   "cell_type": "markdown",
   "metadata": {
    "papermill": {
     "duration": 0.04089,
     "end_time": "2020-12-30T03:12:15.540026",
     "exception": false,
     "start_time": "2020-12-30T03:12:15.499136",
     "status": "completed"
    },
    "tags": []
   },
   "source": [
    "As we already see the field descriptions, so for our training we are interested only in fields as below "
   ]
  },
  {
   "cell_type": "code",
   "execution_count": 82,
   "metadata": {
    "execution": {
     "iopub.execute_input": "2020-12-30T03:12:15.632410Z",
     "iopub.status.busy": "2020-12-30T03:12:15.631646Z",
     "iopub.status.idle": "2020-12-30T03:12:15.636034Z",
     "shell.execute_reply": "2020-12-30T03:12:15.635381Z"
    },
    "papermill": {
     "duration": 0.054632,
     "end_time": "2020-12-30T03:12:15.636146",
     "exception": false,
     "start_time": "2020-12-30T03:12:15.581514",
     "status": "completed"
    },
    "tags": []
   },
   "outputs": [],
   "source": [
    "# Specifying dependent and independent variables\n",
    "\n",
    "X = df[['4046', '4225', '4770', 'Small Bags', 'Large Bags', 'XLarge Bags', 'type', 'year', 'region']]\n",
    "y = df['AveragePrice']\n",
    "y=np.log1p(y)"
   ]
  },
  {
   "cell_type": "code",
   "execution_count": 83,
   "metadata": {
    "execution": {
     "iopub.execute_input": "2020-12-30T03:12:15.723102Z",
     "iopub.status.busy": "2020-12-30T03:12:15.722443Z",
     "iopub.status.idle": "2020-12-30T03:12:15.740622Z",
     "shell.execute_reply": "2020-12-30T03:12:15.741344Z"
    },
    "papermill": {
     "duration": 0.06382,
     "end_time": "2020-12-30T03:12:15.741531",
     "exception": false,
     "start_time": "2020-12-30T03:12:15.677711",
     "status": "completed"
    },
    "tags": []
   },
   "outputs": [
    {
     "data": {
      "text/html": [
       "<div>\n",
       "<style scoped>\n",
       "    .dataframe tbody tr th:only-of-type {\n",
       "        vertical-align: middle;\n",
       "    }\n",
       "\n",
       "    .dataframe tbody tr th {\n",
       "        vertical-align: top;\n",
       "    }\n",
       "\n",
       "    .dataframe thead th {\n",
       "        text-align: right;\n",
       "    }\n",
       "</style>\n",
       "<table border=\"1\" class=\"dataframe\">\n",
       "  <thead>\n",
       "    <tr style=\"text-align: right;\">\n",
       "      <th></th>\n",
       "      <th>4046</th>\n",
       "      <th>4225</th>\n",
       "      <th>4770</th>\n",
       "      <th>Small Bags</th>\n",
       "      <th>Large Bags</th>\n",
       "      <th>XLarge Bags</th>\n",
       "      <th>type</th>\n",
       "      <th>year</th>\n",
       "      <th>region</th>\n",
       "    </tr>\n",
       "  </thead>\n",
       "  <tbody>\n",
       "    <tr>\n",
       "      <th>0</th>\n",
       "      <td>1036.74</td>\n",
       "      <td>54454.85</td>\n",
       "      <td>48.16</td>\n",
       "      <td>8603.62</td>\n",
       "      <td>93.25</td>\n",
       "      <td>0.0</td>\n",
       "      <td>conventional</td>\n",
       "      <td>2015</td>\n",
       "      <td>Albany</td>\n",
       "    </tr>\n",
       "    <tr>\n",
       "      <th>1</th>\n",
       "      <td>674.28</td>\n",
       "      <td>44638.81</td>\n",
       "      <td>58.33</td>\n",
       "      <td>9408.07</td>\n",
       "      <td>97.49</td>\n",
       "      <td>0.0</td>\n",
       "      <td>conventional</td>\n",
       "      <td>2015</td>\n",
       "      <td>Albany</td>\n",
       "    </tr>\n",
       "    <tr>\n",
       "      <th>2</th>\n",
       "      <td>794.70</td>\n",
       "      <td>109149.67</td>\n",
       "      <td>130.50</td>\n",
       "      <td>8042.21</td>\n",
       "      <td>103.14</td>\n",
       "      <td>0.0</td>\n",
       "      <td>conventional</td>\n",
       "      <td>2015</td>\n",
       "      <td>Albany</td>\n",
       "    </tr>\n",
       "    <tr>\n",
       "      <th>3</th>\n",
       "      <td>1132.00</td>\n",
       "      <td>71976.41</td>\n",
       "      <td>72.58</td>\n",
       "      <td>5677.40</td>\n",
       "      <td>133.76</td>\n",
       "      <td>0.0</td>\n",
       "      <td>conventional</td>\n",
       "      <td>2015</td>\n",
       "      <td>Albany</td>\n",
       "    </tr>\n",
       "    <tr>\n",
       "      <th>4</th>\n",
       "      <td>941.48</td>\n",
       "      <td>43838.39</td>\n",
       "      <td>75.78</td>\n",
       "      <td>5986.26</td>\n",
       "      <td>197.69</td>\n",
       "      <td>0.0</td>\n",
       "      <td>conventional</td>\n",
       "      <td>2015</td>\n",
       "      <td>Albany</td>\n",
       "    </tr>\n",
       "  </tbody>\n",
       "</table>\n",
       "</div>"
      ],
      "text/plain": [
       "      4046       4225    4770  Small Bags  Large Bags  XLarge Bags  \\\n",
       "0  1036.74   54454.85   48.16     8603.62       93.25          0.0   \n",
       "1   674.28   44638.81   58.33     9408.07       97.49          0.0   \n",
       "2   794.70  109149.67  130.50     8042.21      103.14          0.0   \n",
       "3  1132.00   71976.41   72.58     5677.40      133.76          0.0   \n",
       "4   941.48   43838.39   75.78     5986.26      197.69          0.0   \n",
       "\n",
       "           type  year  region  \n",
       "0  conventional  2015  Albany  \n",
       "1  conventional  2015  Albany  \n",
       "2  conventional  2015  Albany  \n",
       "3  conventional  2015  Albany  \n",
       "4  conventional  2015  Albany  "
      ]
     },
     "execution_count": 83,
     "metadata": {},
     "output_type": "execute_result"
    }
   ],
   "source": [
    "X.head()"
   ]
  },
  {
   "cell_type": "code",
   "execution_count": 84,
   "metadata": {
    "execution": {
     "iopub.execute_input": "2020-12-30T03:12:15.838559Z",
     "iopub.status.busy": "2020-12-30T03:12:15.837710Z",
     "iopub.status.idle": "2020-12-30T03:12:15.841314Z",
     "shell.execute_reply": "2020-12-30T03:12:15.841776Z"
    },
    "papermill": {
     "duration": 0.053042,
     "end_time": "2020-12-30T03:12:15.841935",
     "exception": false,
     "start_time": "2020-12-30T03:12:15.788893",
     "status": "completed"
    },
    "tags": []
   },
   "outputs": [
    {
     "data": {
      "text/plain": [
       "0    0.845868\n",
       "1    0.854415\n",
       "2    0.657520\n",
       "3    0.732368\n",
       "4    0.824175\n",
       "Name: AveragePrice, dtype: float64"
      ]
     },
     "execution_count": 84,
     "metadata": {},
     "output_type": "execute_result"
    }
   ],
   "source": [
    "y.head()"
   ]
  },
  {
   "cell_type": "markdown",
   "metadata": {
    "papermill": {
     "duration": 0.042945,
     "end_time": "2020-12-30T03:12:15.929070",
     "exception": false,
     "start_time": "2020-12-30T03:12:15.886125",
     "status": "completed"
    },
    "tags": []
   },
   "source": [
    "# Labeling the categorical variables"
   ]
  },
  {
   "cell_type": "markdown",
   "metadata": {},
   "source": [
    "**A dummy variable** is a numeric variable that encodes categorical information.\n",
    "Dummy variables have two possible values: 0 or 1\n",
    "<br/>\n",
    "משתנה דמה"
   ]
  },
  {
   "cell_type": "code",
   "execution_count": 85,
   "metadata": {
    "execution": {
     "iopub.execute_input": "2020-12-30T03:12:16.020156Z",
     "iopub.status.busy": "2020-12-30T03:12:16.019527Z",
     "iopub.status.idle": "2020-12-30T03:12:16.055868Z",
     "shell.execute_reply": "2020-12-30T03:12:16.056361Z"
    },
    "papermill": {
     "duration": 0.083507,
     "end_time": "2020-12-30T03:12:16.056508",
     "exception": false,
     "start_time": "2020-12-30T03:12:15.973001",
     "status": "completed"
    },
    "tags": []
   },
   "outputs": [
    {
     "data": {
      "text/html": [
       "<div>\n",
       "<style scoped>\n",
       "    .dataframe tbody tr th:only-of-type {\n",
       "        vertical-align: middle;\n",
       "    }\n",
       "\n",
       "    .dataframe tbody tr th {\n",
       "        vertical-align: top;\n",
       "    }\n",
       "\n",
       "    .dataframe thead th {\n",
       "        text-align: right;\n",
       "    }\n",
       "</style>\n",
       "<table border=\"1\" class=\"dataframe\">\n",
       "  <thead>\n",
       "    <tr style=\"text-align: right;\">\n",
       "      <th></th>\n",
       "      <th>4046</th>\n",
       "      <th>4225</th>\n",
       "      <th>4770</th>\n",
       "      <th>Small Bags</th>\n",
       "      <th>Large Bags</th>\n",
       "      <th>XLarge Bags</th>\n",
       "      <th>year</th>\n",
       "      <th>type_organic</th>\n",
       "      <th>region_Atlanta</th>\n",
       "      <th>region_BaltimoreWashington</th>\n",
       "      <th>...</th>\n",
       "      <th>region_SouthCarolina</th>\n",
       "      <th>region_SouthCentral</th>\n",
       "      <th>region_Southeast</th>\n",
       "      <th>region_Spokane</th>\n",
       "      <th>region_StLouis</th>\n",
       "      <th>region_Syracuse</th>\n",
       "      <th>region_Tampa</th>\n",
       "      <th>region_TotalUS</th>\n",
       "      <th>region_West</th>\n",
       "      <th>region_WestTexNewMexico</th>\n",
       "    </tr>\n",
       "  </thead>\n",
       "  <tbody>\n",
       "    <tr>\n",
       "      <th>0</th>\n",
       "      <td>1036.74</td>\n",
       "      <td>54454.85</td>\n",
       "      <td>48.16</td>\n",
       "      <td>8603.62</td>\n",
       "      <td>93.25</td>\n",
       "      <td>0.0</td>\n",
       "      <td>2015</td>\n",
       "      <td>0</td>\n",
       "      <td>0</td>\n",
       "      <td>0</td>\n",
       "      <td>...</td>\n",
       "      <td>0</td>\n",
       "      <td>0</td>\n",
       "      <td>0</td>\n",
       "      <td>0</td>\n",
       "      <td>0</td>\n",
       "      <td>0</td>\n",
       "      <td>0</td>\n",
       "      <td>0</td>\n",
       "      <td>0</td>\n",
       "      <td>0</td>\n",
       "    </tr>\n",
       "    <tr>\n",
       "      <th>1</th>\n",
       "      <td>674.28</td>\n",
       "      <td>44638.81</td>\n",
       "      <td>58.33</td>\n",
       "      <td>9408.07</td>\n",
       "      <td>97.49</td>\n",
       "      <td>0.0</td>\n",
       "      <td>2015</td>\n",
       "      <td>0</td>\n",
       "      <td>0</td>\n",
       "      <td>0</td>\n",
       "      <td>...</td>\n",
       "      <td>0</td>\n",
       "      <td>0</td>\n",
       "      <td>0</td>\n",
       "      <td>0</td>\n",
       "      <td>0</td>\n",
       "      <td>0</td>\n",
       "      <td>0</td>\n",
       "      <td>0</td>\n",
       "      <td>0</td>\n",
       "      <td>0</td>\n",
       "    </tr>\n",
       "    <tr>\n",
       "      <th>2</th>\n",
       "      <td>794.70</td>\n",
       "      <td>109149.67</td>\n",
       "      <td>130.50</td>\n",
       "      <td>8042.21</td>\n",
       "      <td>103.14</td>\n",
       "      <td>0.0</td>\n",
       "      <td>2015</td>\n",
       "      <td>0</td>\n",
       "      <td>0</td>\n",
       "      <td>0</td>\n",
       "      <td>...</td>\n",
       "      <td>0</td>\n",
       "      <td>0</td>\n",
       "      <td>0</td>\n",
       "      <td>0</td>\n",
       "      <td>0</td>\n",
       "      <td>0</td>\n",
       "      <td>0</td>\n",
       "      <td>0</td>\n",
       "      <td>0</td>\n",
       "      <td>0</td>\n",
       "    </tr>\n",
       "    <tr>\n",
       "      <th>3</th>\n",
       "      <td>1132.00</td>\n",
       "      <td>71976.41</td>\n",
       "      <td>72.58</td>\n",
       "      <td>5677.40</td>\n",
       "      <td>133.76</td>\n",
       "      <td>0.0</td>\n",
       "      <td>2015</td>\n",
       "      <td>0</td>\n",
       "      <td>0</td>\n",
       "      <td>0</td>\n",
       "      <td>...</td>\n",
       "      <td>0</td>\n",
       "      <td>0</td>\n",
       "      <td>0</td>\n",
       "      <td>0</td>\n",
       "      <td>0</td>\n",
       "      <td>0</td>\n",
       "      <td>0</td>\n",
       "      <td>0</td>\n",
       "      <td>0</td>\n",
       "      <td>0</td>\n",
       "    </tr>\n",
       "    <tr>\n",
       "      <th>4</th>\n",
       "      <td>941.48</td>\n",
       "      <td>43838.39</td>\n",
       "      <td>75.78</td>\n",
       "      <td>5986.26</td>\n",
       "      <td>197.69</td>\n",
       "      <td>0.0</td>\n",
       "      <td>2015</td>\n",
       "      <td>0</td>\n",
       "      <td>0</td>\n",
       "      <td>0</td>\n",
       "      <td>...</td>\n",
       "      <td>0</td>\n",
       "      <td>0</td>\n",
       "      <td>0</td>\n",
       "      <td>0</td>\n",
       "      <td>0</td>\n",
       "      <td>0</td>\n",
       "      <td>0</td>\n",
       "      <td>0</td>\n",
       "      <td>0</td>\n",
       "      <td>0</td>\n",
       "    </tr>\n",
       "  </tbody>\n",
       "</table>\n",
       "<p>5 rows × 61 columns</p>\n",
       "</div>"
      ],
      "text/plain": [
       "      4046       4225    4770  Small Bags  Large Bags  XLarge Bags  year  \\\n",
       "0  1036.74   54454.85   48.16     8603.62       93.25          0.0  2015   \n",
       "1   674.28   44638.81   58.33     9408.07       97.49          0.0  2015   \n",
       "2   794.70  109149.67  130.50     8042.21      103.14          0.0  2015   \n",
       "3  1132.00   71976.41   72.58     5677.40      133.76          0.0  2015   \n",
       "4   941.48   43838.39   75.78     5986.26      197.69          0.0  2015   \n",
       "\n",
       "   type_organic  region_Atlanta  region_BaltimoreWashington  ...  \\\n",
       "0             0               0                           0  ...   \n",
       "1             0               0                           0  ...   \n",
       "2             0               0                           0  ...   \n",
       "3             0               0                           0  ...   \n",
       "4             0               0                           0  ...   \n",
       "\n",
       "   region_SouthCarolina  region_SouthCentral  region_Southeast  \\\n",
       "0                     0                    0                 0   \n",
       "1                     0                    0                 0   \n",
       "2                     0                    0                 0   \n",
       "3                     0                    0                 0   \n",
       "4                     0                    0                 0   \n",
       "\n",
       "   region_Spokane  region_StLouis  region_Syracuse  region_Tampa  \\\n",
       "0               0               0                0             0   \n",
       "1               0               0                0             0   \n",
       "2               0               0                0             0   \n",
       "3               0               0                0             0   \n",
       "4               0               0                0             0   \n",
       "\n",
       "   region_TotalUS  region_West  region_WestTexNewMexico  \n",
       "0               0            0                        0  \n",
       "1               0            0                        0  \n",
       "2               0            0                        0  \n",
       "3               0            0                        0  \n",
       "4               0            0                        0  \n",
       "\n",
       "[5 rows x 61 columns]"
      ]
     },
     "execution_count": 85,
     "metadata": {},
     "output_type": "execute_result"
    }
   ],
   "source": [
    "# X_labelled = pd.get_dummies(X[[\"type\",\"region\"]], drop_first = True)\n",
    "# X_labelled.head()\n",
    "\n",
    "X = pd.get_dummies(X, prefix=[\"type\",\"region\"], columns=[\"type\",\"region\"], drop_first = True)\n",
    "X.head()"
   ]
  },
  {
   "cell_type": "code",
   "execution_count": 86,
   "metadata": {
    "execution": {
     "iopub.execute_input": "2020-12-30T03:12:16.147221Z",
     "iopub.status.busy": "2020-12-30T03:12:16.146584Z",
     "iopub.status.idle": "2020-12-30T03:12:16.152185Z",
     "shell.execute_reply": "2020-12-30T03:12:16.152788Z"
    },
    "papermill": {
     "duration": 0.05248,
     "end_time": "2020-12-30T03:12:16.152931",
     "exception": false,
     "start_time": "2020-12-30T03:12:16.100451",
     "status": "completed"
    },
    "tags": []
   },
   "outputs": [
    {
     "data": {
      "text/plain": [
       "Index(['4046', '4225', '4770', 'Small Bags', 'Large Bags', 'XLarge Bags',\n",
       "       'year', 'type_organic', 'region_Atlanta', 'region_BaltimoreWashington',\n",
       "       'region_Boise', 'region_Boston', 'region_BuffaloRochester',\n",
       "       'region_California', 'region_Charlotte', 'region_Chicago',\n",
       "       'region_CincinnatiDayton', 'region_Columbus', 'region_DallasFtWorth',\n",
       "       'region_Denver', 'region_Detroit', 'region_GrandRapids',\n",
       "       'region_GreatLakes', 'region_HarrisburgScranton',\n",
       "       'region_HartfordSpringfield', 'region_Houston', 'region_Indianapolis',\n",
       "       'region_Jacksonville', 'region_LasVegas', 'region_LosAngeles',\n",
       "       'region_Louisville', 'region_MiamiFtLauderdale', 'region_Midsouth',\n",
       "       'region_Nashville', 'region_NewOrleansMobile', 'region_NewYork',\n",
       "       'region_Northeast', 'region_NorthernNewEngland', 'region_Orlando',\n",
       "       'region_Philadelphia', 'region_PhoenixTucson', 'region_Pittsburgh',\n",
       "       'region_Plains', 'region_Portland', 'region_RaleighGreensboro',\n",
       "       'region_RichmondNorfolk', 'region_Roanoke', 'region_Sacramento',\n",
       "       'region_SanDiego', 'region_SanFrancisco', 'region_Seattle',\n",
       "       'region_SouthCarolina', 'region_SouthCentral', 'region_Southeast',\n",
       "       'region_Spokane', 'region_StLouis', 'region_Syracuse', 'region_Tampa',\n",
       "       'region_TotalUS', 'region_West', 'region_WestTexNewMexico'],\n",
       "      dtype='object')"
      ]
     },
     "execution_count": 86,
     "metadata": {},
     "output_type": "execute_result"
    }
   ],
   "source": [
    "X.columns"
   ]
  },
  {
   "cell_type": "markdown",
   "metadata": {
    "papermill": {
     "duration": 0.043842,
     "end_time": "2020-12-30T03:12:16.241839",
     "exception": false,
     "start_time": "2020-12-30T03:12:16.197997",
     "status": "completed"
    },
    "tags": []
   },
   "source": [
    "# Split into Train and Valid set\n",
    "# X, y"
   ]
  },
  {
   "cell_type": "code",
   "execution_count": 87,
   "metadata": {
    "execution": {
     "iopub.execute_input": "2020-12-30T03:12:16.334120Z",
     "iopub.status.busy": "2020-12-30T03:12:16.333422Z",
     "iopub.status.idle": "2020-12-30T03:12:16.338281Z",
     "shell.execute_reply": "2020-12-30T03:12:16.337626Z"
    },
    "papermill": {
     "duration": 0.052151,
     "end_time": "2020-12-30T03:12:16.338398",
     "exception": false,
     "start_time": "2020-12-30T03:12:16.286247",
     "status": "completed"
    },
    "tags": []
   },
   "outputs": [],
   "source": [
    "from sklearn.model_selection import train_test_split "
   ]
  },
  {
   "cell_type": "code",
   "execution_count": 88,
   "metadata": {},
   "outputs": [],
   "source": [
    "scaler =MinMaxScaler()\n",
    "X = scaler.fit_transform(X)\n",
    "\n",
    " "
   ]
  },
  {
   "cell_type": "code",
   "execution_count": 89,
   "metadata": {
    "execution": {
     "iopub.execute_input": "2020-12-30T03:12:16.435877Z",
     "iopub.status.busy": "2020-12-30T03:12:16.435013Z",
     "iopub.status.idle": "2020-12-30T03:12:16.446557Z",
     "shell.execute_reply": "2020-12-30T03:12:16.445868Z"
    },
    "papermill": {
     "duration": 0.063227,
     "end_time": "2020-12-30T03:12:16.446675",
     "exception": false,
     "start_time": "2020-12-30T03:12:16.383448",
     "status": "completed"
    },
    "tags": []
   },
   "outputs": [],
   "source": [
    "X_train, X_valid, y_train, y_valid = train_test_split(X, y, test_size = 0.3, random_state = 99)"
   ]
  },
  {
   "cell_type": "code",
   "execution_count": 90,
   "metadata": {
    "execution": {
     "iopub.execute_input": "2020-12-30T03:12:16.543323Z",
     "iopub.status.busy": "2020-12-30T03:12:16.542645Z",
     "iopub.status.idle": "2020-12-30T03:12:16.546138Z",
     "shell.execute_reply": "2020-12-30T03:12:16.546674Z"
    },
    "papermill": {
     "duration": 0.054252,
     "end_time": "2020-12-30T03:12:16.546813",
     "exception": false,
     "start_time": "2020-12-30T03:12:16.492561",
     "status": "completed"
    },
    "tags": []
   },
   "outputs": [
    {
     "data": {
      "text/plain": [
       "((12774, 61), (5475, 61), (12774,), (5475,))"
      ]
     },
     "execution_count": 90,
     "metadata": {},
     "output_type": "execute_result"
    }
   ],
   "source": [
    "X_train.shape, X_valid.shape, y_train.shape, y_valid.shape"
   ]
  },
  {
   "cell_type": "markdown",
   "metadata": {
    "papermill": {
     "duration": 0.045121,
     "end_time": "2020-12-30T03:12:16.637106",
     "exception": false,
     "start_time": "2020-12-30T03:12:16.591985",
     "status": "completed"
    },
    "tags": []
   },
   "source": [
    "# Training the Model\n",
    "## Multiple Linear Regression "
   ]
  },
  {
   "cell_type": "code",
   "execution_count": 91,
   "metadata": {
    "execution": {
     "iopub.execute_input": "2020-12-30T03:12:16.773385Z",
     "iopub.status.busy": "2020-12-30T03:12:16.772263Z",
     "iopub.status.idle": "2020-12-30T03:12:16.780073Z",
     "shell.execute_reply": "2020-12-30T03:12:16.781823Z"
    },
    "papermill": {
     "duration": 0.094815,
     "end_time": "2020-12-30T03:12:16.782056",
     "exception": false,
     "start_time": "2020-12-30T03:12:16.687241",
     "status": "completed"
    },
    "tags": []
   },
   "outputs": [],
   "source": [
    "from sklearn.linear_model import LinearRegression"
   ]
  },
  {
   "cell_type": "code",
   "execution_count": 93,
   "metadata": {
    "execution": {
     "iopub.execute_input": "2020-12-30T03:12:16.888693Z",
     "iopub.status.busy": "2020-12-30T03:12:16.887605Z",
     "iopub.status.idle": "2020-12-30T03:12:17.010772Z",
     "shell.execute_reply": "2020-12-30T03:12:17.009753Z"
    },
    "papermill": {
     "duration": 0.177987,
     "end_time": "2020-12-30T03:12:17.010899",
     "exception": false,
     "start_time": "2020-12-30T03:12:16.832912",
     "status": "completed"
    },
    "tags": []
   },
   "outputs": [
    {
     "name": "stdout",
     "output_type": "stream",
     "text": [
      "R2 of Linear Regresson: 0.5773790751837304\n"
     ]
    }
   ],
   "source": [
    "lr = LinearRegression()\n",
    "lr.fit(X_train,y_train)\n",
    "\n",
    "print(\"R2 of Linear Regresson:\", lr.score(X_train,y_train) )\n"
   ]
  },
  {
   "cell_type": "markdown",
   "metadata": {},
   "source": [
    "#### bagging the multiple linear regression model"
   ]
  },
  {
   "cell_type": "code",
   "execution_count": 94,
   "metadata": {},
   "outputs": [
    {
     "name": "stdout",
     "output_type": "stream",
     "text": [
      "R2 of Bagging Regresson: 0.5773613205765198\n",
      "Mean squared error:  0.011867758721778523\n",
      "R2 score:  0.561168014696219\n",
      "R2 score of training set:  0.5773613205765198\n",
      "Accuracy score:  0.561168014696219\n",
      "Accuracy score of training set:  0.5773613205765198\n"
     ]
    }
   ],
   "source": [
    "# create decision tree regressor object\n",
    "\n",
    "# bagging regressor\n",
    "from sklearn.ensemble import BaggingRegressor\n",
    "lr_bagging_regressor = BaggingRegressor(base_estimator = lr, n_estimators = 100, random_state = 42)\n",
    "lr_bagging_regressor.fit(X_train, y_train)\n",
    "print(\"R2 of Bagging Regresson:\", lr_bagging_regressor.score(X_train,y_train) )\n",
    "y_pred = lr_bagging_regressor.predict(X_valid)\n",
    "# calculating the mean squared error\n",
    "mse = mean_squared_error(y_valid, y_pred)\n",
    "print(\"Mean squared error: \", mse)\n",
    "# r2 score  \n",
    "r2_score = metrics.r2_score(y_valid, y_pred)\n",
    "print(\"R2 score: \", r2_score)\n",
    "# r2 score of training set\n",
    "r2_score_train = metrics.r2_score(y_train, lr_bagging_regressor.predict(X_train))\n",
    "print(\"R2 score of training set: \", r2_score_train)\n",
    "# calculagte the accuracy of the model\n",
    "accuracy_score=lr_bagging_regressor.score(X_valid,y_valid)\n",
    "print(\"Accuracy score: \", accuracy_score)\n",
    "accuracy_score_train=lr_bagging_regressor.score(X_train,y_train)\n",
    "print(\"Accuracy score of training set: \", accuracy_score_train)\n"
   ]
  },
  {
   "cell_type": "markdown",
   "metadata": {},
   "source": [
    "#### grid search for the linear regression model"
   ]
  },
  {
   "cell_type": "code",
   "execution_count": 95,
   "metadata": {},
   "outputs": [
    {
     "name": "stdout",
     "output_type": "stream",
     "text": [
      "{'n_estimators': 60}\n",
      "0.5727904548739404\n",
      "R2 of Bagging Regresson: 0.9801201149685029\n",
      "Mean squared error:  0.0037253998253896827\n",
      "R2 score:  0.8622465589542154\n",
      "R2 score of training set:  0.9801201149685029\n",
      "Accuracy score:  0.8622465589542154\n",
      "Accuracy score of training set:  0.9801201149685029\n",
      "Difference between r2 score and accuracy score:  0.0\n"
     ]
    }
   ],
   "source": [
    "# grid search\n",
    "from sklearn.model_selection import GridSearchCV\n",
    "# create a dictionary of all values we want to test for n_estimators\n",
    "param_grid = {'n_estimators': np.arange(10, 200, 10)}\n",
    "# use gridsearch to test all values for n_estimators\n",
    "lr_bagging_regressor = BaggingRegressor(base_estimator = lr)\n",
    "lr_bagging_regressor_gscv = GridSearchCV(lr_bagging_regressor, param_grid, cv=5)\n",
    "# fit model to data\n",
    "lr_bagging_regressor_gscv.fit(X_train, y_train)\n",
    "# check top performing n_estimators value\n",
    "print(lr_bagging_regressor_gscv.best_params_)\n",
    "# check mean score for the top performing value of n_estimators\n",
    "print(lr_bagging_regressor_gscv.best_score_)\n",
    "# create the best model\n",
    "lr_bagging_regressor_best = BaggingRegressor(**lr_bagging_regressor_gscv.best_params_)\n",
    "lr_bagging_regressor_best.fit(X_train, y_train)\n",
    "print(\"R2 of Bagging Regresson:\", lr_bagging_regressor_best.score(X_train,y_train) )\n",
    "y_pred = lr_bagging_regressor_best.predict(X_valid)\n",
    "# calculating the mean squared error\n",
    "mse = mean_squared_error(y_valid, y_pred)\n",
    "print(\"Mean squared error: \", mse)\n",
    "# r2 score\n",
    "r2_score = metrics.r2_score(y_valid, y_pred)\n",
    "print(\"R2 score: \", r2_score)\n",
    "# r2 score of training set\n",
    "r2_score_train = metrics.r2_score(y_train, lr_bagging_regressor_best.predict(X_train))\n",
    "print(\"R2 score of training set: \", r2_score_train)\n",
    "# calculagte the accuracy of the model\n",
    "accuracy_score=lr_bagging_regressor_best.score(X_valid,y_valid)\n",
    "print(\"Accuracy score: \", accuracy_score)\n",
    "accuracy_score_train=lr_bagging_regressor_best.score(X_train,y_train)\n",
    "print(\"Accuracy score of training set: \", accuracy_score_train)\n",
    "# difference between r2 score and accuracy score\n",
    "print(\"Difference between r2 score and accuracy score: \", r2_score-accuracy_score)\n",
    "\n"
   ]
  },
  {
   "cell_type": "markdown",
   "metadata": {},
   "source": [
    "#### boosting the multiple linear regression model"
   ]
  },
  {
   "cell_type": "code",
   "execution_count": 96,
   "metadata": {},
   "outputs": [
    {
     "name": "stdout",
     "output_type": "stream",
     "text": [
      "R2 of Boosting Regresson: 0.5636549768311803\n",
      "Mean squared error:  0.012204013117369888\n",
      "R2 score:  0.5487343962309486\n",
      "R2 score of training set:  0.5636549768311803\n",
      "Accuracy score:  0.5487343962309486\n",
      "Accuracy score of training set:  0.5636549768311803\n",
      "Difference between r2 score and accuracy score:  0.0\n"
     ]
    }
   ],
   "source": [
    "# boosting regressor\n",
    "from sklearn.ensemble import AdaBoostRegressor\n",
    "lr_boosting_regressor = AdaBoostRegressor(base_estimator = lr, n_estimators = 100, random_state = 42)\n",
    "lr_boosting_regressor.fit(X_train, y_train)\n",
    "print(\"R2 of Boosting Regresson:\", lr_boosting_regressor.score(X_train,y_train) )\n",
    "y_pred = lr_boosting_regressor.predict(X_valid)\n",
    "# calculating the mean squared error\n",
    "mse = mean_squared_error(y_valid, y_pred)\n",
    "print(\"Mean squared error: \", mse)\n",
    "# r2 score\n",
    "r2_score = metrics.r2_score(y_valid, y_pred)\n",
    "print(\"R2 score: \", r2_score)\n",
    "# r2 score of training set\n",
    "r2_score_train = metrics.r2_score(y_train, lr_boosting_regressor.predict(X_train))\n",
    "print(\"R2 score of training set: \", r2_score_train)\n",
    "# calculagte the accuracy of the model\n",
    "accuracy_score=lr_boosting_regressor.score(X_valid,y_valid)\n",
    "print(\"Accuracy score: \", accuracy_score)\n",
    "accuracy_score_train=lr_boosting_regressor.score(X_train,y_train)\n",
    "print(\"Accuracy score of training set: \", accuracy_score_train)\n",
    "# difference between r2 score and accuracy score\n",
    "print(\"Difference between r2 score and accuracy score: \", r2_score-accuracy_score)\n"
   ]
  },
  {
   "cell_type": "markdown",
   "metadata": {},
   "source": [
    "#### `as we can see the best model is the bagging model for the linear regression`"
   ]
  },
  {
   "cell_type": "markdown",
   "metadata": {
    "papermill": {
     "duration": 0.048387,
     "end_time": "2020-12-30T03:12:17.881519",
     "exception": false,
     "start_time": "2020-12-30T03:12:17.833132",
     "status": "completed"
    },
    "tags": []
   },
   "source": [
    "## SVR Regressor"
   ]
  },
  {
   "cell_type": "code",
   "execution_count": null,
   "metadata": {
    "execution": {
     "iopub.execute_input": "2020-12-30T03:12:18.596754Z",
     "iopub.status.busy": "2020-12-30T03:12:18.596057Z",
     "iopub.status.idle": "2020-12-30T03:13:01.328197Z",
     "shell.execute_reply": "2020-12-30T03:13:01.328792Z"
    },
    "papermill": {
     "duration": 42.789031,
     "end_time": "2020-12-30T03:13:01.328936",
     "exception": false,
     "start_time": "2020-12-30T03:12:18.539905",
     "status": "completed"
    },
    "tags": []
   },
   "outputs": [
    {
     "name": "stdout",
     "output_type": "stream",
     "text": [
      "0.7352209321641603\n"
     ]
    }
   ],
   "source": [
    "from sklearn.svm import SVR\n",
    "svr = SVR(kernel='rbf', C=1, gamma= 0.5)   \n",
    "\n",
    "svr.fit(X_train,y_train)\n",
    "print(svr.score(X_train,y_train))"
   ]
  },
  {
   "cell_type": "markdown",
   "metadata": {},
   "source": [
    "#### bagging the SVR model"
   ]
  },
  {
   "cell_type": "code",
   "execution_count": 98,
   "metadata": {},
   "outputs": [
    {
     "name": "stdout",
     "output_type": "stream",
     "text": [
      "R2 of Bagging Regresson: 0.6723012263873184\n",
      "Mean squared error:  0.009482868680209668\n",
      "R2 score:  0.6493536659390543\n",
      "R2 score of training set:  0.6723012263873184\n",
      "Accuracy score:  0.6493536659390543\n",
      "Accuracy score of training set:  0.6723012263873184\n",
      "Difference between r2 score and accuracy score:  0.0\n"
     ]
    }
   ],
   "source": [
    "# bagging regressor\n",
    "from sklearn.ensemble import BaggingRegressor\n",
    "svr_bagging_regressor = BaggingRegressor(base_estimator = svr, n_estimators = 100, random_state = 42, n_jobs = -1, oob_score = True, bootstrap = True, max_samples = 0.5)\n",
    "svr_bagging_regressor.fit(X_train, y_train)\n",
    "print(\"R2 of Bagging Regresson:\", svr_bagging_regressor.score(X_train,y_train) )\n",
    "y_pred = svr_bagging_regressor.predict(X_valid)\n",
    "# calculating the mean squared error\n",
    "mse = mean_squared_error(y_valid, y_pred)\n",
    "print(\"Mean squared error: \", mse)\n",
    "# r2 score\n",
    "r2_score = metrics.r2_score(y_valid, y_pred)\n",
    "print(\"R2 score: \", r2_score)\n",
    "# r2 score of training set\n",
    "r2_score_train = metrics.r2_score(y_train, svr_bagging_regressor.predict(X_train))\n",
    "print(\"R2 score of training set: \", r2_score_train)\n",
    "# calculagte the accuracy of the model\n",
    "accuracy_score=svr_bagging_regressor.score(X_valid,y_valid)\n",
    "print(\"Accuracy score: \", accuracy_score)\n",
    "accuracy_score_train=svr_bagging_regressor.score(X_train,y_train)\n",
    "print(\"Accuracy score of training set: \", accuracy_score_train)\n",
    "# difference between r2 score and accuracy score\n",
    "print(\"Difference between r2 score and accuracy score: \", r2_score-accuracy_score)"
   ]
  },
  {
   "cell_type": "markdown",
   "metadata": {},
   "source": [
    "#### k fold cross validation for the SVR model"
   ]
  },
  {
   "cell_type": "code",
   "execution_count": 99,
   "metadata": {},
   "outputs": [
    {
     "name": "stdout",
     "output_type": "stream",
     "text": [
      "Accuracy: 66.66 %\n",
      "Standard Deviation: 1.81 %\n"
     ]
    }
   ],
   "source": [
    "# k-fold cross validation for the svr model\n",
    "from sklearn.model_selection import cross_val_score\n",
    "accuracies = cross_val_score(estimator = svr, X = X_train, y = y_train, cv = 10)\n",
    "print(\"Accuracy: {:.2f} %\".format(accuracies.mean()*100))\n",
    "print(\"Standard Deviation: {:.2f} %\".format(accuracies.std()*100))\n"
   ]
  },
  {
   "cell_type": "markdown",
   "metadata": {},
   "source": [
    "#### boosting the SVR model"
   ]
  },
  {
   "cell_type": "code",
   "execution_count": 100,
   "metadata": {},
   "outputs": [
    {
     "name": "stdout",
     "output_type": "stream",
     "text": [
      "R2 of Boosting Regresson: 0.6776413807072121\n",
      "Mean squared error:  0.009195772392969955\n",
      "R2 score:  0.6599695738502549\n",
      "R2 score of training set:  0.6776413807072121\n",
      "Accuracy score:  0.6599695738502549\n",
      "Accuracy score of training set:  0.6776413807072121\n",
      "Difference between r2 score and accuracy score:  0.0\n"
     ]
    }
   ],
   "source": [
    "# boosting regressor\n",
    "from sklearn.ensemble import AdaBoostRegressor\n",
    "svr_boosting_regressor = AdaBoostRegressor(base_estimator = svr, n_estimators = 100, random_state = 42)\n",
    "svr_boosting_regressor.fit(X_train, y_train)\n",
    "print(\"R2 of Boosting Regresson:\", svr_boosting_regressor.score(X_train,y_train) )\n",
    "y_pred = svr_boosting_regressor.predict(X_valid)\n",
    "# calculating the mean squared error\n",
    "mse = mean_squared_error(y_valid, y_pred)\n",
    "print(\"Mean squared error: \", mse)\n",
    "# r2 score\n",
    "r2_score = metrics.r2_score(y_valid, y_pred)\n",
    "print(\"R2 score: \", r2_score)\n",
    "# r2 score of training set\n",
    "r2_score_train = metrics.r2_score(y_train, svr_boosting_regressor.predict(X_train))\n",
    "print(\"R2 score of training set: \", r2_score_train)\n",
    "# calculagte the accuracy of the model\n",
    "accuracy_score=svr_boosting_regressor.score(X_valid,y_valid)\n",
    "print(\"Accuracy score: \", accuracy_score)\n",
    "accuracy_score_train=svr_boosting_regressor.score(X_train,y_train)\n",
    "print(\"Accuracy score of training set: \", accuracy_score_train)\n",
    "# difference between r2 score and accuracy score\n",
    "print(\"Difference between r2 score and accuracy score: \", r2_score-accuracy_score)\n"
   ]
  },
  {
   "cell_type": "markdown",
   "metadata": {},
   "source": [
    "# USE Decision TreeRegressor"
   ]
  },
  {
   "cell_type": "code",
   "execution_count": 101,
   "metadata": {
    "papermill": {
     "duration": 0.061035,
     "end_time": "2020-12-30T03:13:17.994191",
     "exception": false,
     "start_time": "2020-12-30T03:13:17.933156",
     "status": "completed"
    },
    "tags": []
   },
   "outputs": [
    {
     "name": "stdout",
     "output_type": "stream",
     "text": [
      "1.0\n"
     ]
    }
   ],
   "source": [
    "dt_reg=DecisionTreeRegressor(random_state=42)\n",
    "dt_reg.fit(X_train,y_train)\n",
    "print(dt_reg.score(X_train,y_train))"
   ]
  },
  {
   "cell_type": "markdown",
   "metadata": {},
   "source": [
    "#### grid search for the Decision TreeRegressor model"
   ]
  },
  {
   "cell_type": "code",
   "execution_count": 102,
   "metadata": {},
   "outputs": [
    {
     "name": "stdout",
     "output_type": "stream",
     "text": [
      "Best Accuracy: 70.49 %\n",
      "Best Parameters: {'max_depth': 10, 'min_samples_leaf': 2, 'min_samples_split': 9}\n"
     ]
    }
   ],
   "source": [
    "# grid search for the decision tree regressor\n",
    "from sklearn.model_selection import GridSearchCV\n",
    "parameters = [{'max_depth': [2, 3, 4, 5, 6, 7, 8, 9, 10], 'min_samples_leaf': [1, 2, 3, 4, 5, 6, 7, 8, 9, 10], 'min_samples_split': [2, 3, 4, 5, 6, 7, 8, 9, 10]}]\n",
    "grid_search = GridSearchCV(estimator = dt_reg, param_grid = parameters, scoring = 'r2', cv = 10, n_jobs = -1)\n",
    "grid_search = grid_search.fit(X_train, y_train)\n",
    "best_accuracy = grid_search.best_score_\n",
    "best_parameters = grid_search.best_params_\n",
    "dt_reg_accuracy = grid_search.score(X_train, y_train)\n",
    "print(\"Best Accuracy: {:.2f} %\".format(best_accuracy*100))\n",
    "dt_reg_parameters = grid_search.best_params_\n",
    "print(\"Best Parameters:\", best_parameters)\n",
    "    "
   ]
  },
  {
   "cell_type": "code",
   "execution_count": 103,
   "metadata": {},
   "outputs": [
    {
     "name": "stdout",
     "output_type": "stream",
     "text": [
      "R2 of Decision Tree Regresson: 0.7732993085767867\n",
      "Mean squared error:  0.008046786253925306\n",
      "R2 score:  0.7024554281976483\n",
      "R2 score of training set:  0.7732993085767867\n",
      "Accuracy score:  0.7024554281976483\n",
      "Accuracy score of training set:  0.7732993085767867\n",
      "Difference between r2 score and accuracy score:  0.0\n"
     ]
    }
   ],
   "source": [
    "# creating the decision tree best regresso\n",
    "dt_reg_best = DecisionTreeRegressor(**dt_reg_parameters, random_state = 42)\n",
    "dt_reg_best.fit(X_train, y_train)\n",
    "print(\"R2 of Decision Tree Regresson:\", dt_reg_best.score(X_train,y_train) )\n",
    "y_pred = dt_reg_best.predict(X_valid)\n",
    "# calculating the mean squared error\n",
    "mse = mean_squared_error(y_valid, y_pred)\n",
    "print(\"Mean squared error: \", mse)\n",
    "# r2 score \n",
    "r2_score = metrics.r2_score(y_valid, y_pred)\n",
    "print(\"R2 score: \", r2_score)\n",
    "# r2 score of training set\n",
    "r2_score_train = metrics.r2_score(y_train, dt_reg_best.predict(X_train))\n",
    "print(\"R2 score of training set: \", r2_score_train)\n",
    "# calculagte the accuracy of the model\n",
    "accuracy_score=dt_reg_best.score(X_valid,y_valid)\n",
    "print(\"Accuracy score: \", accuracy_score)\n",
    "accuracy_score_train=dt_reg_best.score(X_train,y_train)\n",
    "print(\"Accuracy score of training set: \", accuracy_score_train)\n",
    "# difference between r2 score and accuracy score\n",
    "print(\"Difference between r2 score and accuracy score: \", r2_score-accuracy_score)\n"
   ]
  },
  {
   "cell_type": "markdown",
   "metadata": {},
   "source": [
    "#### boosting the Decision TreeRegressor model"
   ]
  },
  {
   "cell_type": "code",
   "execution_count": 105,
   "metadata": {},
   "outputs": [
    {
     "name": "stdout",
     "output_type": "stream",
     "text": [
      "R2 of Boosting Regresson: 0.891754418409887\n",
      "Mean squared error:  0.004894687714050184\n",
      "R2 score:  0.8190100104531977\n",
      "R2 score of training set:  0.891754418409887\n",
      "Accuracy score:  0.8190100104531977\n",
      "Accuracy score of training set:  0.891754418409887\n",
      "Difference between accuracy train score and accuracy score:  0.07274440795668935\n"
     ]
    }
   ],
   "source": [
    "# boosting regressor\n",
    "from sklearn.ensemble import AdaBoostRegressor\n",
    "dt_boosting_regressor = AdaBoostRegressor(base_estimator = dt_reg_best, n_estimators = 100, random_state = 42)\n",
    "dt_boosting_regressor.fit(X_train, y_train)\n",
    "print(\"R2 of Boosting Regresson:\", dt_boosting_regressor.score(X_train,y_train) )\n",
    "y_pred = dt_boosting_regressor.predict(X_valid)\n",
    "# calculating the mean squared error\n",
    "mse = mean_squared_error(y_valid, y_pred)\n",
    "print(\"Mean squared error: \", mse)\n",
    "# r2 score\n",
    "r2_score = metrics.r2_score(y_valid, y_pred)\n",
    "print(\"R2 score: \", r2_score)\n",
    "# r2 score of training set\n",
    "r2_score_train = metrics.r2_score(y_train, dt_boosting_regressor.predict(X_train))\n",
    "print(\"R2 score of training set: \", r2_score_train)\n",
    "# calculagte the accuracy of the model\n",
    "accuracy_score=dt_boosting_regressor.score(X_valid,y_valid)\n",
    "print(\"Accuracy score: \", accuracy_score)\n",
    "accuracy_score_train=dt_boosting_regressor.score(X_train,y_train)\n",
    "print(\"Accuracy score of training set: \", accuracy_score_train)\n",
    "# difference between r2 score and accuracy score\n",
    "print(\"Difference between accuracy train score and accuracy score: \", accuracy_score_train-accuracy_score)\n"
   ]
  },
  {
   "cell_type": "markdown",
   "metadata": {},
   "source": [
    "# knn Regressor"
   ]
  },
  {
   "cell_type": "code",
   "execution_count": 106,
   "metadata": {},
   "outputs": [
    {
     "name": "stdout",
     "output_type": "stream",
     "text": [
      "R2 of KNN Regresson: 0.9108352980800427\n",
      "Mean squared error:  0.0038875803936537106\n",
      "R2 score:  0.8562496371750092\n",
      "R2 score of training set:  0.9108352980800427\n",
      "Accuracy score:  0.8562496371750092\n",
      "Accuracy score of training set:  0.9108352980800427\n",
      "Difference between train accuracy score and accuracy score:  0.05458566090503347\n"
     ]
    }
   ],
   "source": [
    "# knn regressor\n",
    "from sklearn.neighbors import KNeighborsRegressor\n",
    "knn_reg = KNeighborsRegressor()\n",
    "knn_reg.fit(X_train, y_train)\n",
    "print(\"R2 of KNN Regresson:\", knn_reg.score(X_train,y_train) )\n",
    "y_pred = knn_reg.predict(X_valid)\n",
    "# calculating the mean squared error\n",
    "mse = mean_squared_error(y_valid, y_pred)\n",
    "print(\"Mean squared error: \", mse)\n",
    "# r2 score\n",
    "r2_score = metrics.r2_score(y_valid, y_pred)\n",
    "print(\"R2 score: \", r2_score)\n",
    "# r2 score of training set\n",
    "r2_score_train = metrics.r2_score(y_train, knn_reg.predict(X_train))\n",
    "print(\"R2 score of training set: \", r2_score_train)\n",
    "# calculagte the accuracy of the model\n",
    "accuracy_score=knn_reg.score(X_valid,y_valid)\n",
    "print(\"Accuracy score: \", accuracy_score)\n",
    "accuracy_score_train=knn_reg.score(X_train,y_train)\n",
    "print(\"Accuracy score of training set: \", accuracy_score_train)\n",
    "# difference between r2 score and accuracy score\n",
    "print(\"Difference between train accuracy score and accuracy score: \", accuracy_score_train-accuracy_score)"
   ]
  },
  {
   "cell_type": "markdown",
   "metadata": {},
   "source": [
    "#### random search for the knn model"
   ]
  },
  {
   "cell_type": "code",
   "execution_count": 107,
   "metadata": {},
   "outputs": [
    {
     "name": "stdout",
     "output_type": "stream",
     "text": [
      "Best Accuracy: 86.62 %\n",
      "Best Parameters: {'weights': 'distance', 'n_neighbors': 4, 'algorithm': 'ball_tree'}\n"
     ]
    }
   ],
   "source": [
    "# random search for the knn regressor\n",
    "from sklearn.model_selection import RandomizedSearchCV\n",
    "parameters = [{'n_neighbors': [1, 2, 3, 4, 5, 6, 7, 8, 9, 10], 'weights': ['uniform', 'distance'], 'algorithm': ['auto', 'ball_tree', 'kd_tree', 'brute']}]\n",
    "random_search = RandomizedSearchCV(estimator = knn_reg, param_distributions = parameters, scoring = 'r2', cv = 10, n_jobs = -1)\n",
    "random_search = random_search.fit(X_train, y_train)\n",
    "best_accuracy = random_search.best_score_\n",
    "best_parameters = random_search.best_params_\n",
    "knn_reg_accuracy = random_search.score(X_train, y_train)\n",
    "print(\"Best Accuracy: {:.2f} %\".format(best_accuracy*100))\n",
    "knn_reg_parameters = random_search.best_params_\n",
    "print(\"Best Parameters:\", best_parameters)\n"
   ]
  },
  {
   "cell_type": "markdown",
   "metadata": {},
   "source": [
    "#### creating the best knn model"
   ]
  },
  {
   "cell_type": "code",
   "execution_count": 108,
   "metadata": {},
   "outputs": [
    {
     "name": "stdout",
     "output_type": "stream",
     "text": [
      "R2 of KNN Regresson: 1.0\n",
      "Mean squared error:  0.0035065914451749623\n",
      "R2 score:  0.870337397177487\n",
      "R2 score of training set:  1.0\n",
      "Accuracy score:  0.870337397177487\n",
      "Accuracy score of training set:  1.0\n",
      "Difference between training accuracy score and accuracy score:  0.12966260282251296\n"
     ]
    }
   ],
   "source": [
    "# creating the knn best regressor\n",
    "knn_reg_best = KNeighborsRegressor(**knn_reg_parameters)\n",
    "knn_reg_best.fit(X_train, y_train)\n",
    "print(\"R2 of KNN Regresson:\", knn_reg_best.score(X_train,y_train) )\n",
    "y_pred = knn_reg_best.predict(X_valid)\n",
    "# calculating the mean squared error\n",
    "mse = mean_squared_error(y_valid, y_pred)\n",
    "print(\"Mean squared error: \", mse) \n",
    "# r2 score\n",
    "r2_score = metrics.r2_score(y_valid, y_pred)\n",
    "print(\"R2 score: \", r2_score)\n",
    "# r2 score of training set\n",
    "r2_score_train = metrics.r2_score(y_train, knn_reg_best.predict(X_train))\n",
    "print(\"R2 score of training set: \", r2_score_train)\n",
    "# calculagte the accuracy of the model\n",
    "accuracy_score=knn_reg_best.score(X_valid,y_valid)\n",
    "print(\"Accuracy score: \", accuracy_score)\n",
    "accuracy_score_train=knn_reg_best.score(X_train,y_train)\n",
    "print(\"Accuracy score of training set: \", accuracy_score_train)\n",
    "# difference between training accuracy score and accuracy score \n",
    "print(\"Difference between training accuracy score and accuracy score: \", accuracy_score_train-accuracy_score)\n",
    "\n"
   ]
  },
  {
   "cell_type": "markdown",
   "metadata": {},
   "source": [
    "#### bagging the knn model"
   ]
  },
  {
   "cell_type": "code",
   "execution_count": 109,
   "metadata": {},
   "outputs": [
    {
     "name": "stdout",
     "output_type": "stream",
     "text": [
      "R2 of Bagging Regresson: 0.9823093396192354\n",
      "Mean squared error:  0.003523265729546371\n",
      "R2 score:  0.8697208351554772\n",
      "R2 score of training set:  0.9823093396192354\n",
      "Accuracy score:  0.8697208351554772\n",
      "Accuracy score of training set:  0.9823093396192354\n",
      "Difference between training accuracy score and accuracy score:  0.11258850446375823\n"
     ]
    }
   ],
   "source": [
    "# bagging the knn regressor\n",
    "from sklearn.ensemble import BaggingRegressor\n",
    "knn_bagging_regressor = BaggingRegressor(base_estimator = knn_reg_best, n_estimators = 100, random_state = 42)\n",
    "knn_bagging_regressor.fit(X_train, y_train)\n",
    "print(\"R2 of Bagging Regresson:\", knn_bagging_regressor.score(X_train,y_train) )\n",
    "y_pred = knn_bagging_regressor.predict(X_valid)\n",
    "# calculating the mean squared error\n",
    "mse = mean_squared_error(y_valid, y_pred)\n",
    "print(\"Mean squared error: \", mse)\n",
    "# r2 score\n",
    "r2_score = metrics.r2_score(y_valid, y_pred)\n",
    "print(\"R2 score: \", r2_score)\n",
    "# r2 score of training set\n",
    "r2_score_train = metrics.r2_score(y_train, knn_bagging_regressor.predict(X_train))\n",
    "print(\"R2 score of training set: \", r2_score_train)  \n",
    "# calculagte the accuracy of the model\n",
    "accuracy_score=knn_bagging_regressor.score(X_valid,y_valid)\n",
    "print(\"Accuracy score: \", accuracy_score)\n",
    "accuracy_score_train=knn_bagging_regressor.score(X_train,y_train)\n",
    "print(\"Accuracy score of training set: \", accuracy_score_train)\n",
    "# difference between training accuracy score and accuracy score\n",
    "print(\"Difference between training accuracy score and accuracy score: \", accuracy_score_train-accuracy_score)\n"
   ]
  },
  {
   "cell_type": "markdown",
   "metadata": {},
   "source": [
    "#### boosting the best knn model"
   ]
  },
  {
   "cell_type": "code",
   "execution_count": 110,
   "metadata": {},
   "outputs": [
    {
     "name": "stdout",
     "output_type": "stream",
     "text": [
      "R2 of Boosting Regresson: 0.9999784551018649\n",
      "Mean squared error:  0.003415243188456032\n",
      "R2 score:  0.8737151652792639\n",
      "R2 score of training set:  0.9999784551018649\n",
      "Accuracy score:  0.8737151652792639\n",
      "Accuracy score of training set:  0.9999784551018649\n",
      "Difference between training accuracy score and accuracy score:  0.12626328982260104\n"
     ]
    }
   ],
   "source": [
    "# boosting the knn regressor\n",
    "from sklearn.ensemble import AdaBoostRegressor\n",
    "knn_boosting_regressor = AdaBoostRegressor(base_estimator = knn_reg_best, n_estimators = 100, random_state = 42, learning_rate = 0.1, loss = 'linear')\n",
    "knn_boosting_regressor.fit(X_train, y_train)\n",
    "print(\"R2 of Boosting Regresson:\", knn_boosting_regressor.score(X_train,y_train) )\n",
    "y_pred = knn_boosting_regressor.predict(X_valid)\n",
    "# calculating the mean squared error\n",
    "mse = mean_squared_error(y_valid, y_pred)\n",
    "print(\"Mean squared error: \", mse)\n",
    "# r2 score\n",
    "r2_score = metrics.r2_score(y_valid, y_pred)\n",
    "print(\"R2 score: \", r2_score)\n",
    "# r2 score of training set\n",
    "r2_score_train = metrics.r2_score(y_train, knn_boosting_regressor.predict(X_train))\n",
    "print(\"R2 score of training set: \", r2_score_train)\n",
    "# calculagte the accuracy of the model\n",
    "accuracy_score=knn_boosting_regressor.score(X_valid,y_valid)\n",
    "print(\"Accuracy score: \", accuracy_score)\n",
    "accuracy_score_train=knn_boosting_regressor.score(X_train,y_train)\n",
    "print(\"Accuracy score of training set: \", accuracy_score_train)\n",
    "# difference between training accuracy score and accuracy score\n",
    "print(\"Difference between training accuracy score and accuracy score: \", accuracy_score_train-accuracy_score)\n"
   ]
  },
  {
   "cell_type": "markdown",
   "metadata": {},
   "source": [
    "# gradient boosting regressor"
   ]
  },
  {
   "cell_type": "code",
   "execution_count": 111,
   "metadata": {},
   "outputs": [
    {
     "name": "stderr",
     "output_type": "stream",
     "text": [
      "/opt/homebrew/lib/python3.9/site-packages/sklearn/ensemble/_gb.py:294: FutureWarning: The loss 'ls' was deprecated in v1.0 and will be removed in version 1.2. Use 'squared_error' which is equivalent.\n",
      "  warnings.warn(\n"
     ]
    },
    {
     "name": "stdout",
     "output_type": "stream",
     "text": [
      "R2 of Gradient Boosting Regresson: 0.6908058226093126\n",
      "Mean squared error:  0.009037508228074533\n",
      "R2 score:  0.6658216794846619\n",
      "R2 score of training set:  0.6908058226093126\n",
      "Accuracy score:  0.6658216794846619\n",
      "Accuracy score of training set:  0.6908058226093126\n",
      "Difference between training accuracy score and accuracy score:  0.024984143124650693\n"
     ]
    }
   ],
   "source": [
    "from sklearn.ensemble import GradientBoostingRegressor\n",
    "gradient_boosting_regressor = GradientBoostingRegressor(n_estimators = 100, random_state = 42, learning_rate = 0.1, loss = 'ls')\n",
    "gradient_boosting_regressor.fit(X_train, y_train)\n",
    "print(\"R2 of Gradient Boosting Regresson:\", gradient_boosting_regressor.score(X_train,y_train) )\n",
    "y_pred = gradient_boosting_regressor.predict(X_valid)\n",
    "# calculating the mean squared error\n",
    "mse = mean_squared_error(y_valid, y_pred)\n",
    "print(\"Mean squared error: \", mse)\n",
    "# r2 score\n",
    "r2_score = metrics.r2_score(y_valid, y_pred)\n",
    "print(\"R2 score: \", r2_score)\n",
    "# r2 score of training set\n",
    "r2_score_train = metrics.r2_score(y_train, gradient_boosting_regressor.predict(X_train))\n",
    "print(\"R2 score of training set: \", r2_score_train)\n",
    "# calculagte the accuracy of the model\n",
    "accuracy_score=gradient_boosting_regressor.score(X_valid,y_valid)\n",
    "print(\"Accuracy score: \", accuracy_score)\n",
    "accuracy_score_train=gradient_boosting_regressor.score(X_train,y_train)\n",
    "print(\"Accuracy score of training set: \", accuracy_score_train)\n",
    "# difference between training accuracy score and accuracy score\n",
    "print(\"Difference between training accuracy score and accuracy score: \", accuracy_score_train-accuracy_score)\n"
   ]
  },
  {
   "cell_type": "markdown",
   "metadata": {},
   "source": [
    "# voting classifier for the best models"
   ]
  },
  {
   "cell_type": "code",
   "execution_count": 112,
   "metadata": {},
   "outputs": [
    {
     "name": "stderr",
     "output_type": "stream",
     "text": [
      "/opt/homebrew/lib/python3.9/site-packages/sklearn/ensemble/_gb.py:294: FutureWarning: The loss 'ls' was deprecated in v1.0 and will be removed in version 1.2. Use 'squared_error' which is equivalent.\n",
      "  warnings.warn(\n"
     ]
    },
    {
     "name": "stdout",
     "output_type": "stream",
     "text": [
      "R2 of Voting Regresson: 0.8923625848726564\n",
      "Mean squared error:  0.0049661956082835655\n",
      "R2 score:  0.816365875875896\n",
      "R2 score of training set:  0.8923625848726564\n",
      "Accuracy score:  0.816365875875896\n",
      "Accuracy score of training set:  0.8923625848726564\n",
      "Difference between training accuracy score and accuracy score:  0.07599670899676036\n"
     ]
    }
   ],
   "source": [
    "# voting classifier \n",
    "from sklearn.ensemble import VotingRegressor\n",
    "best_models_voting_reg=[('knn_reg_best', knn_reg_best),('svr', svr),('dt_reg_best', dt_reg_best),('svr_bagging_regressor', svr_bagging_regressor),('lr_bagging_regressor_best', lr_bagging_regressor_best),('knn_bagging_regressor', knn_bagging_regressor),('knn_boosting_regressor', knn_boosting_regressor),('svr_boosting_regressor', svr_boosting_regressor),('dt_boosting_regressor', dt_boosting_regressor),('lr_boosting_regressor', lr_boosting_regressor),('gradient_boosting_regressor',gradient_boosting_regressor)]\n",
    "voting_reg = VotingRegressor(estimators = best_models_voting_reg)\n",
    "voting_reg.fit(X_train, y_train)\n",
    "print(\"R2 of Voting Regresson:\", voting_reg.score(X_train,y_train) )\n",
    "y_pred = voting_reg.predict(X_valid)\n",
    "# calculating the mean squared error\n",
    "mse = mean_squared_error(y_valid, y_pred)\n",
    "print(\"Mean squared error: \", mse)\n",
    "# r2 score\n",
    "r2_score = metrics.r2_score(y_valid, y_pred)\n",
    "print(\"R2 score: \", r2_score)\n",
    "# r2 score of training set\n",
    "r2_score_train = metrics.r2_score(y_train, voting_reg.predict(X_train)) \n",
    "print(\"R2 score of training set: \", r2_score_train)\n",
    "# calculagte the accuracy of the model \n",
    "accuracy_score=voting_reg.score(X_valid,y_valid)\n",
    "print(\"Accuracy score: \", accuracy_score)\n",
    "accuracy_score_train=voting_reg.score(X_train,y_train)\n",
    "print(\"Accuracy score of training set: \", accuracy_score_train)\n",
    "# difference between training accuracy score and accuracy score\n",
    "print(\"Difference between training accuracy score and accuracy score: \", accuracy_score_train-accuracy_score)\n"
   ]
  },
  {
   "cell_type": "markdown",
   "metadata": {},
   "source": [
    "# extra tree regressor"
   ]
  },
  {
   "cell_type": "code",
   "execution_count": 115,
   "metadata": {},
   "outputs": [
    {
     "name": "stdout",
     "output_type": "stream",
     "text": [
      "Mean squared error:  0.002848299600180926\n",
      "R2 score:  0.8946789366391799\n",
      "R2 score of training set:  1.0\n",
      "Accuracy score:  0.8946789366391799\n",
      "Accuracy score of training set:  1.0\n",
      "Difference between training accuracy score and accuracy score:  0.10532106336082014\n"
     ]
    }
   ],
   "source": [
    "#  extra tree regressor\n",
    "from sklearn.ensemble import ExtraTreesRegressor\n",
    "extra_tree_regressor = ExtraTreesRegressor(n_estimators = 100, random_state = 42,n_jobs=-1)\n",
    "extra_tree_regressor.fit(X_train, y_train)\n",
    "y_pred = extra_tree_regressor.predict(X_valid)\n",
    "# calculating the mean squared error\n",
    "mse = mean_squared_error(y_valid, y_pred)\n",
    "print(\"Mean squared error: \", mse)\n",
    "# r2 score\n",
    "r2_score = metrics.r2_score(y_valid, y_pred)\n",
    "print(\"R2 score: \", r2_score)\n",
    "# r2 score of training set\n",
    "r2_score_train = metrics.r2_score(y_train, extra_tree_regressor.predict(X_train))\n",
    "print(\"R2 score of training set: \", r2_score_train)\n",
    "# calculagte the accuracy of the model\n",
    "accuracy_score=extra_tree_regressor.score(X_valid,y_valid)\n",
    "print(\"Accuracy score: \", accuracy_score)\n",
    "accuracy_score_train=extra_tree_regressor.score(X_train,y_train)\n",
    "print(\"Accuracy score of training set: \", accuracy_score_train)\n",
    "# difference between training accuracy score and accuracy score\n",
    "print(\"Difference between training accuracy score and accuracy score: \", accuracy_score_train-accuracy_score)"
   ]
  },
  {
   "cell_type": "markdown",
   "metadata": {},
   "source": [
    "#### using random search for the extra tree regressor"
   ]
  },
  {
   "cell_type": "code",
   "execution_count": 124,
   "metadata": {},
   "outputs": [],
   "source": [
    "# # randm search cv for extra tree regressor\n",
    "# from sklearn.model_selection import RandomizedSearchCV\n",
    "# from scipy.stats import randint as sp_randint\n",
    "# param_dist = {\"max_depth\": [3, None],\n",
    "#                 \"max_features\": sp_randint(1, 11),\n",
    "#                 \"min_samples_split\": sp_randint(2, 11), \n",
    "#                 \"bootstrap\": [True, False],\n",
    "#                 \"criterion\": [\"mse\", \"mae\"]}\n",
    "# n_iter_search = 20\n",
    "# random_search = RandomizedSearchCV(extra_tree_regressor, param_distributions=param_dist, \n",
    "#                                       n_iter=n_iter_search, cv=5, n_jobs=-1)\n",
    "# random_search.fit(X_train, y_train)\n",
    "# print(\"R2 of Random Search CV for Extra Tree Regressor:\", random_search.score(X_train,y_train) )\n",
    "# random_search_best_params=random_search.best_params_\n",
    "# print(\"Best parameters for Extra Tree Regressor:\", random_search_best_params)"
   ]
  },
  {
   "cell_type": "markdown",
   "metadata": {},
   "source": [
    "#### boosting the extra tree regressor model"
   ]
  },
  {
   "cell_type": "code",
   "execution_count": 125,
   "metadata": {},
   "outputs": [
    {
     "name": "stdout",
     "output_type": "stream",
     "text": [
      "Mean squared error:  0.002844868661403618\n",
      "Accuracy score:  0.894805801846874\n",
      "Accuracy score of training set:  0.999969572173164\n",
      "Difference between training accuracy score and accuracy score:  0.10516377032628998\n"
     ]
    }
   ],
   "source": [
    "# boosting the extra tree regressor\n",
    "extra_tree_boosting_regressor = AdaBoostRegressor(base_estimator = extra_tree_regressor, n_estimators = 100, random_state = 42, learning_rate = 0.1)\n",
    "extra_tree_boosting_regressor.fit(X_train, y_train)\n",
    "y_pred = extra_tree_boosting_regressor.predict(X_valid) \n",
    "# calculating the mean squared error\n",
    "mse = mean_squared_error(y_valid, y_pred)\n",
    "print(\"Mean squared error: \", mse)\n",
    "# accuracy score\n",
    "accuracy_score=extra_tree_boosting_regressor.score(X_valid,y_valid)\n",
    "print(\"Accuracy score: \", accuracy_score)\n",
    "accuracy_score_train=extra_tree_boosting_regressor.score(X_train,y_train)\n",
    "print(\"Accuracy score of training set: \", accuracy_score_train)\n",
    "# difference between training accuracy score and accuracy score\n",
    "print(\"Difference between training accuracy score and accuracy score: \", accuracy_score_train-accuracy_score)\n"
   ]
  },
  {
   "cell_type": "markdown",
   "metadata": {},
   "source": [
    "# stacking regressor"
   ]
  },
  {
   "cell_type": "code",
   "execution_count": 127,
   "metadata": {},
   "outputs": [
    {
     "name": "stdout",
     "output_type": "stream",
     "text": [
      "R2 of Stacking Regresson: 0.997650655328854\n",
      "Mean squared error:  0.0027863491646154008\n",
      "Accuracy score:  0.8969696667818281\n",
      "Accuracy score of training set:  0.997650655328854\n",
      "Difference between training accuracy score and accuracy score:  0.1006809885470259\n"
     ]
    }
   ],
   "source": [
    "# stacking regressor\n",
    "# random forest regressor\n",
    "from sklearn.ensemble import RandomForestRegressor\n",
    "# import linear regression\n",
    "from sklearn.linear_model import LinearRegression\n",
    "from sklearn.ensemble import StackingRegressor\n",
    "best_models_stacking_reg=[('knn_reg_best', knn_reg_best),('svr', svr),('dt_reg_best', dt_reg_best),('extra_tree_regressor',extra_tree_regressor),('random_forest',RandomForestRegressor())]\n",
    "stacking_reg = StackingRegressor(estimators = best_models_stacking_reg, final_estimator = LinearRegression())\n",
    "stacking_reg.fit(X_train, y_train)\n",
    "print(\"R2 of Stacking Regresson:\", stacking_reg.score(X_train,y_train) )\n",
    "y_pred = stacking_reg.predict(X_valid)\n",
    "# calculating the mean squared error\n",
    "mse = mean_squared_error(y_valid, y_pred)\n",
    "print(\"Mean squared error: \", mse)\n",
    "# accuracy score\n",
    "accuracy_score=stacking_reg.score(X_valid,y_valid)\n",
    "print(\"Accuracy score: \", accuracy_score)\n",
    "accuracy_score_train=stacking_reg.score(X_train,y_train)\n",
    "print(\"Accuracy score of training set: \", accuracy_score_train)\n",
    "# difference between training accuracy score and accuracy score\n",
    "print(\"Difference between training accuracy score and accuracy score: \", accuracy_score_train-accuracy_score)"
   ]
  },
  {
   "cell_type": "markdown",
   "metadata": {},
   "source": [
    "# xgboost regressor"
   ]
  },
  {
   "cell_type": "code",
   "execution_count": 141,
   "metadata": {},
   "outputs": [
    {
     "name": "stdout",
     "output_type": "stream",
     "text": [
      "Mean squared error:  0.008864427077181963\n",
      "Accuracy score:  0.6722216701522736\n",
      "Accuracy score of training set:  0.6954415281955941\n",
      "Difference between training accuracy score and accuracy score:  0.023219858043320496\n"
     ]
    }
   ],
   "source": [
    "# create xgb regressor\n",
    "import xgboost as xgb\n",
    "xgb_reg = xgb.XGBRegressor(objective ='reg:squarederror', colsample_bytree = 0.3, learning_rate = 0.1, max_depth = 5, alpha = 10, n_estimators = 200,scoring='r2')\n",
    "xgb_reg.fit(X_train, y_train)\n",
    "y_pred = xgb_reg.predict(X_valid)\n",
    "# calculating the mean squared error\n",
    "mse = mean_squared_error(y_valid, y_pred)\n",
    "print(\"Mean squared error: \", mse)\n",
    "# accuracy score\n",
    "accuracy_score=xgb_reg.score(X_valid,y_valid)\n",
    "print(\"Accuracy score: \", accuracy_score)\n",
    "accuracy_score_train=xgb_reg.score(X_train,y_train)\n",
    "print(\"Accuracy score of training set: \", accuracy_score_train)\n",
    "# difference between training accuracy score and accuracy score\n",
    "print(\"Difference between training accuracy score and accuracy score: \", accuracy_score_train-accuracy_score)\n",
    "# fpr,tpr,thresholds=metrics.roc_curve(y_valid,y_pred)\n",
    "# print(\"AUC score: \", metrics.auc(fpr,tpr))\n"
   ]
  },
  {
   "cell_type": "markdown",
   "metadata": {},
   "source": [
    "# catboost regressor"
   ]
  },
  {
   "cell_type": "code",
   "execution_count": 143,
   "metadata": {},
   "outputs": [
    {
     "name": "stdout",
     "output_type": "stream",
     "text": [
      "Mean squared error:  0.006755389879308182\n",
      "Accuracy score:  0.7502071602789026\n",
      "Accuracy score of training set:  0.7759814910704564\n",
      "Difference between training accuracy score and accuracy score:  0.02577433079155389\n"
     ]
    }
   ],
   "source": [
    "# create catboost regressor\n",
    "from catboost import CatBoostRegressor\n",
    "cat_reg = CatBoostRegressor(iterations=200, learning_rate=0.1, depth=5, loss_function='RMSE',silent=True)\n",
    "cat_reg.fit(X_train, y_train)\n",
    "y_pred = cat_reg.predict(X_valid)\n",
    "# calculating the mean squared error\n",
    "mse = mean_squared_error(y_valid, y_pred)\n",
    "print(\"Mean squared error: \", mse)\n",
    "# accuracy score\n",
    "accuracy_score=cat_reg.score(X_valid,y_valid)\n",
    "print(\"Accuracy score: \", accuracy_score)\n",
    "accuracy_score_train=cat_reg.score(X_train,y_train)\n",
    "print(\"Accuracy score of training set: \", accuracy_score_train)\n",
    "# difference between training accuracy score and accuracy score\n",
    "print(\"Difference between training accuracy score and accuracy score: \", accuracy_score_train-accuracy_score)"
   ]
  },
  {
   "cell_type": "markdown",
   "metadata": {},
   "source": [
    "#### using grid search for the catboost regressor"
   ]
  },
  {
   "cell_type": "code",
   "execution_count": 144,
   "metadata": {},
   "outputs": [
    {
     "name": "stdout",
     "output_type": "stream",
     "text": [
      "R2 of Grid Search CV for Catboost Regressor: 0.8579465013879355\n",
      "Best parameters for Catboost Regressor: {'depth': 8, 'iterations': 300, 'l2_leaf_reg': 1, 'learning_rate': 0.07}\n"
     ]
    }
   ],
   "source": [
    "# grid search cv for catboost regressor\n",
    "from sklearn.model_selection import GridSearchCV\n",
    "param_grid = {'depth': [4,5,6,7,8],\n",
    "                'learning_rate' : [0.03, 0.05, 0.07],\n",
    "                'l2_leaf_reg': [1,4,9],\n",
    "                'iterations': [100,200,300]}\n",
    "grid_search = GridSearchCV(cat_reg, param_grid, cv=5, n_jobs=-1)\n",
    "grid_search.fit(X_train, y_train)\n",
    "print(\"R2 of Grid Search CV for Catboost Regressor:\", grid_search.score(X_train,y_train) )\n",
    "grid_search_best_params=grid_search.best_params_\n",
    "print(\"Best parameters for Catboost Regressor:\", grid_search_best_params)\n"
   ]
  },
  {
   "cell_type": "markdown",
   "metadata": {},
   "source": [
    "#### best model for the catboost"
   ]
  },
  {
   "cell_type": "code",
   "execution_count": 147,
   "metadata": {},
   "outputs": [
    {
     "name": "stdout",
     "output_type": "stream",
     "text": [
      "Mean squared error:  0.00488629873242272\n",
      "Accuracy score:  0.8193202083219411\n",
      "Accuracy score of training set:  0.8579465013879355\n",
      "Difference between training accuracy score and accuracy score:  0.03862629306599441\n"
     ]
    }
   ],
   "source": [
    "# create catboost regressor with best parameters\n",
    "best_cat_reg=CatBoostRegressor(**grid_search_best_params,loss_function='RMSE',silent=True)\n",
    "best_cat_reg.fit(X_train, y_train)\n",
    "y_pred = best_cat_reg.predict(X_valid)\n",
    "# calculating the mean squared error\n",
    "mse = mean_squared_error(y_valid, y_pred)\n",
    "print(\"Mean squared error: \", mse)\n",
    "# accuracy score\n",
    "accuracy_score=best_cat_reg.score(X_valid,y_valid)\n",
    "print(\"Accuracy score: \", accuracy_score)\n",
    "accuracy_score_train=best_cat_reg.score(X_train,y_train)\n",
    "print(\"Accuracy score of training set: \", accuracy_score_train)\n",
    "# difference between training accuracy score and accuracy score\n",
    "print(\"Difference between training accuracy score and accuracy score: \", accuracy_score_train-accuracy_score)\n",
    "\n"
   ]
  },
  {
   "cell_type": "markdown",
   "metadata": {},
   "source": [
    "# saving the models to mongo db"
   ]
  },
  {
   "cell_type": "code",
   "execution_count": 114,
   "metadata": {},
   "outputs": [],
   "source": [
    "# saving the test data \n",
    "def save_x_test_to_mongo(test_to_mongo):\n",
    "    import pymongo\n",
    "    import pickle\n",
    "    data=pickle.dumps(test_to_mongo)\n",
    "    client = pymongo.MongoClient(\"mongodb://localhost:27017/\")\n",
    "    db = client[\"Diabetes\"]\n",
    "    collection = db[\"test_to_mongo\"]\n",
    "    collection.insert_one({\"data\":data})\n",
    "\n",
    "# # # saving the scaler\n",
    "# import pymongo\n",
    "# import pickle\n",
    "# data=pickle.dumps(scaler)\n",
    "# client = pymongo.MongoClient(\"mongodb://localhost:27017/\")\n",
    "# db = client[\"Diabetes\"]\n",
    "# collection = db[\"scaler\"]\n",
    "# collection.insert_one({\"data\":data})\n",
    "\n",
    "# saving the best model\n",
    "def save_model_to_db(model, client, db, dbconnection, model_name,accuracy,parameters,f1_score,mapk):\n",
    "    pickled_model = pickle.dumps(model)\n",
    "    myclient = pymongo.MongoClient(client)\n",
    "    mydb = myclient[db]\n",
    "    mycon = mydb[dbconnection]\n",
    "    # check if model already exists \n",
    "    if mycon.count_documents({'model_name':model_name}) == 0:\n",
    "        # base estimator pickeling if is talked about model with best estimators in the parameters \n",
    "        if 'base_estimator'  in parameters:\n",
    "            base_estimator=pickle.dumps(parameters['base_estimator'])\n",
    "            parameters.pop('base_estimator')\n",
    "            parameters['base_estimator']=base_estimator\n",
    "        elif  'base_estimator__base_estimator' in parameters:\n",
    "                base_estimator=pickle.dumps(parameters['base_estimator__base_estimator'])\n",
    "                parameters.pop('base_estimator__base_estimator')\n",
    "                parameters['base_estimator__base_estimator']=base_estimator\n",
    "        elif 'estimators' in parameters:\n",
    "            for param in parameters:\n",
    "                if 'estimators' in param:\n",
    "                    for i in range(len(parameters[param])):\n",
    "                        estimator=pickle.dumps(parameters[param][i])\n",
    "                        parameters[param][i]=estimator\n",
    "        mycon.insert_one({'model':pickled_model,\"accuracy\":accuracy,\"parameters\":parameters,'mapk':mapk,'f1_score':f1_score,'model_name':model_name,\"dbconnection\":dbconnection,'model':pickled_model})\n",
    "    else:\n",
    "        # check if the model has better accuracy and if so replace it with the new one\n",
    "        if mycon.find_one({'model_name':model_name})['accuracy'] < accuracy:\n",
    "            if 'base_estimator'  in parameters:\n",
    "                base_estimator=pickle.dumps(parameters['base_estimator'])\n",
    "                parameters.pop('base_estimator')\n",
    "                parameters['base_estimator']=base_estimator\n",
    "                mycon.insert_one({'model':pickled_model,\"accuracy\":accuracy,\"parameters\":parameters,'mapk':mapk,'f1_score':f1_score,'model_name':model_name,\"dbconnection\":dbconnection,'model':pickled_model})\n",
    "                # and delete the old one\n",
    "                mycon.delete_one({'model_name':model_name})\n",
    "            elif  'base_estimator__base_estimator' in parameters:\n",
    "                base_estimator=pickle.dumps(parameters['base_estimator__base_estimator'])\n",
    "                parameters.pop('base_estimator__base_estimator')\n",
    "                parameters['base_estimator__base_estimator']=base_estimator\n",
    "                mycon.insert_one({'model':pickled_model,\"accuracy\":accuracy,\"parameters\":parameters,'mapk':mapk,'f1_score':f1_score,'model_name':model_name,\"dbconnection\":dbconnection,'model':pickled_model})\n",
    "                # and delete the old one\n",
    "                mycon.delete_one({'model_name':model_name})   \n",
    "            elif 'estimators' in parameters:\n",
    "                for param in parameters:\n",
    "                    if 'estimators' in param:\n",
    "                        for i in range(len(parameters[param])):\n",
    "                            estimator=pickle.dumps(parameters[param][i])\n",
    "                            parameters[param][i]=estimator\n",
    "    print(\"saved\",model_name,accuracy)\n",
    "    \n",
    "def load_data_from_db(client, db, dbconnection):\n",
    "    myclient = pymongo.MongoClient(client)\n",
    "    mydb = myclient[db]\n",
    "    mycol = mydb[dbconnection]\n",
    "    records=mycol.find()\n",
    "    list_cr=list(records)\n",
    "    for i in list_cr:\n",
    "        for j in i['parameters']:\n",
    "            i[j]=i['parameters'][j]\n",
    "        del i['parameters']\n",
    "    df=pd.DataFrame(list_cr)\n",
    "    df['model']=df['model'].apply(lambda x: pickle.loads(x))\n",
    "    return df\n"
   ]
  },
  {
   "cell_type": "markdown",
   "metadata": {},
   "source": [
    "# save models to picle files"
   ]
  },
  {
   "cell_type": "code",
   "execution_count": 130,
   "metadata": {},
   "outputs": [],
   "source": [
    "def save_the_modell_and_the_info_to_pickle(model_name,model,accuracy,mapk,f1_score,params):\n",
    "    # save the model to the pickle file\n",
    "    with open(model_name+'.pkl', 'wb') as file:\n",
    "        pickle.dump(model, file)\n",
    "        pickle.dump(accuracy, file)\n",
    "        pickle.dump(mapk, file)\n",
    "        pickle.dump(f1_score, file)\n",
    "        pickle.dump(params, file)\n",
    "    print('model saved to the pickle file')\n",
    "   \n",
    "def load_data_from_pickle_file(model_name):\n",
    "    with open(model_name+'.pkl', 'rb') as file:\n",
    "        model=pickle.load(file)\n",
    "        accuracy=pickle.load(file)\n",
    "        mapk=pickle.load(file)\n",
    "        f1_score=pickle.load(file)\n",
    "        params=pickle.load(file)\n",
    "    return {'model':model,'accuracy':accuracy,'mapk':mapk,'f1_score':f1_score,'params':params}\n",
    "\n",
    "\n",
    "# save all the models into a picle file\n",
    "def save_all_models_to_pickle_file(models):\n",
    "    with open('models.pickle', 'wb') as f:\n",
    "        pickle.dump(models, f)\n",
    "    print('models saved to pickle file')\n",
    "# load all the models from a picle file\n",
    "def load_all_models_from_pickle_file():\n",
    "    with open('models.pickle', 'rb') as f:\n",
    "        models = pickle.load(f)\n",
    "    print('models loaded from pickle file')\n",
    "    return models\n"
   ]
  },
  {
   "cell_type": "code",
   "execution_count": 148,
   "metadata": {},
   "outputs": [
    {
     "name": "stdout",
     "output_type": "stream",
     "text": [
      "models saved to pickle file\n",
      "models loaded from pickle file\n"
     ]
    },
    {
     "data": {
      "text/plain": [
       "[BaggingRegressor(n_estimators=60),\n",
       " BaggingRegressor(base_estimator=LinearRegression()),\n",
       " AdaBoostRegressor(base_estimator=LinearRegression(), n_estimators=100,\n",
       "                   random_state=42),\n",
       " DecisionTreeRegressor(max_depth=10, min_samples_leaf=2, min_samples_split=9,\n",
       "                       random_state=42),\n",
       " AdaBoostRegressor(base_estimator=DecisionTreeRegressor(max_depth=10,\n",
       "                                                        min_samples_leaf=2,\n",
       "                                                        min_samples_split=9,\n",
       "                                                        random_state=42),\n",
       "                   n_estimators=100, random_state=42),\n",
       " KNeighborsRegressor(algorithm='ball_tree', n_neighbors=4, weights='distance'),\n",
       " BaggingRegressor(base_estimator=KNeighborsRegressor(algorithm='ball_tree',\n",
       "                                                     n_neighbors=4,\n",
       "                                                     weights='distance'),\n",
       "                  n_estimators=100, random_state=42),\n",
       " AdaBoostRegressor(base_estimator=KNeighborsRegressor(algorithm='ball_tree',\n",
       "                                                      n_neighbors=4,\n",
       "                                                      weights='distance'),\n",
       "                   learning_rate=0.1, n_estimators=100, random_state=42),\n",
       " GradientBoostingRegressor(loss='ls', random_state=42),\n",
       " VotingRegressor(estimators=[('knn_reg_best',\n",
       "                              KNeighborsRegressor(algorithm='ball_tree',\n",
       "                                                  n_neighbors=4,\n",
       "                                                  weights='distance')),\n",
       "                             ('svr', SVR(C=1, gamma=0.5)),\n",
       "                             ('dt_reg_best',\n",
       "                              DecisionTreeRegressor(max_depth=10,\n",
       "                                                    min_samples_leaf=2,\n",
       "                                                    min_samples_split=9,\n",
       "                                                    random_state=42)),\n",
       "                             ('svr_bagging_regressor',\n",
       "                              BaggingRegressor(base_estimator=SVR(C=1,\n",
       "                                                                  gamma=0.5),\n",
       "                                               max_samples=0.5, n_e...\n",
       "                              AdaBoostRegressor(base_estimator=DecisionTreeRegressor(max_depth=10,\n",
       "                                                                                     min_samples_leaf=2,\n",
       "                                                                                     min_samples_split=9,\n",
       "                                                                                     random_state=42),\n",
       "                                                n_estimators=100,\n",
       "                                                random_state=42)),\n",
       "                             ('lr_boosting_regressor',\n",
       "                              AdaBoostRegressor(base_estimator=LinearRegression(),\n",
       "                                                n_estimators=100,\n",
       "                                                random_state=42)),\n",
       "                             ('gradient_boosting_regressor',\n",
       "                              GradientBoostingRegressor(loss='ls',\n",
       "                                                        random_state=42))]),\n",
       " AdaBoostRegressor(base_estimator=ExtraTreesRegressor(n_jobs=-1,\n",
       "                                                      random_state=42),\n",
       "                   learning_rate=0.1, n_estimators=100, random_state=42),\n",
       " StackingRegressor(estimators=[('knn_reg_best',\n",
       "                                KNeighborsRegressor(algorithm='ball_tree',\n",
       "                                                    n_neighbors=4,\n",
       "                                                    weights='distance')),\n",
       "                               ('svr', SVR(C=1, gamma=0.5)),\n",
       "                               ('dt_reg_best',\n",
       "                                DecisionTreeRegressor(max_depth=10,\n",
       "                                                      min_samples_leaf=2,\n",
       "                                                      min_samples_split=9,\n",
       "                                                      random_state=42)),\n",
       "                               ('extra_tree_regressor',\n",
       "                                ExtraTreesRegressor(n_jobs=-1, random_state=42)),\n",
       "                               ('random_forest', RandomForestRegressor())],\n",
       "                   final_estimator=LinearRegression()),\n",
       " <catboost.core.CatBoostRegressor at 0xb6a022370>,\n",
       " XGBRegressor(alpha=10, base_score=0.5, booster='gbtree', callbacks=None,\n",
       "              colsample_bylevel=1, colsample_bynode=1, colsample_bytree=0.3,\n",
       "              early_stopping_rounds=None, enable_categorical=False,\n",
       "              eval_metric=None, gamma=0, gpu_id=-1, grow_policy='depthwise',\n",
       "              importance_type=None, interaction_constraints='',\n",
       "              learning_rate=0.1, max_bin=256, max_cat_to_onehot=4,\n",
       "              max_delta_step=0, max_depth=5, max_leaves=0, min_child_weight=1,\n",
       "              missing=nan, monotone_constraints='()', n_estimators=200, n_jobs=0,\n",
       "              num_parallel_tree=1, predictor='auto', random_state=0,\n",
       "              reg_alpha=10, ...)]"
      ]
     },
     "execution_count": 148,
     "metadata": {},
     "output_type": "execute_result"
    }
   ],
   "source": [
    "# create a list of all the models objects we used\n",
    "models=[lr_bagging_regressor_best,lr_bagging_regressor,lr_boosting_regressor,dt_reg_best,dt_boosting_regressor,knn_reg_best,knn_bagging_regressor,knn_boosting_regressor,gradient_boosting_regressor,voting_reg,extra_tree_boosting_regressor,stacking_reg,best_cat_reg,xgb_reg]\n",
    "save_all_models_to_pickle_file(models)\n",
    "load_all_models_from_pickle_file()"
   ]
  }
 ],
 "metadata": {
  "kernelspec": {
   "display_name": "Python 3.9.12 64-bit",
   "language": "python",
   "name": "python3"
  },
  "language_info": {
   "codemirror_mode": {
    "name": "ipython",
    "version": 3
   },
   "file_extension": ".py",
   "mimetype": "text/x-python",
   "name": "python",
   "nbconvert_exporter": "python",
   "pygments_lexer": "ipython3",
   "version": "3.9.12"
  },
  "papermill": {
   "duration": 75.20815,
   "end_time": "2020-12-30T03:13:18.160020",
   "environment_variables": {},
   "exception": null,
   "input_path": "__notebook__.ipynb",
   "output_path": "__notebook__.ipynb",
   "parameters": {},
   "start_time": "2020-12-30T03:12:02.951870",
   "version": "2.1.0"
  },
  "vscode": {
   "interpreter": {
    "hash": "a665b5d41d17b532ea9890333293a1b812fa0b73c9c25c950b3cedf1bebd0438"
   }
  }
 },
 "nbformat": 4,
 "nbformat_minor": 4
}
